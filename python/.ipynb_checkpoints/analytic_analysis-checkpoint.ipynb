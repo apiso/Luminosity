{
 "cells": [
  {
   "cell_type": "code",
   "execution_count": 1,
   "metadata": {
    "collapsed": false
   },
   "outputs": [
    {
     "name": "stdout",
     "output_type": "stream",
     "text": [
      "Populating the interactive namespace from numpy and matplotlib\n"
     ]
    }
   ],
   "source": [
    "%pylab inline"
   ]
  },
  {
   "cell_type": "code",
   "execution_count": 3,
   "metadata": {
    "collapsed": true
   },
   "outputs": [],
   "source": [
    "import numpy as np\n",
    "import luminosity_analytic as l\n",
    "from utils.constants import G, kb, mp, Rb, Me, Re, Msun, RH, RHe, sigma, \\\n",
    "    cmperau, RHill, gammafn, mufn, Rfn, Cvfn, kdust, Tdisk, Pdisk, params, yr\n",
    "from utils.parameters import FT, FSigma, mstar, Y, delad, rhoc, Mc, rc, \\\n",
    "    gamma, Y, a"
   ]
  },
  {
   "cell_type": "code",
   "execution_count": 9,
   "metadata": {
    "collapsed": true
   },
   "outputs": [],
   "source": [
    "delad = 2./7\n",
    "a = 0.1\n",
    "Mc = 10 * Me\n",
    "rc = (3*Mc/(4*np.pi*rhoc))**(1./3)            \n",
    "            \n",
    "prms = params(Mc, rc, a, delad, Y, gamma = gammafn(delad), R = Rfn(Y), \\\n",
    "    Cv = Cvfn(Y, delad), Pd = Pdisk(a, mstar, FSigma, FT), \\\n",
    "    Td = 1e3, kappa = 0.1)"
   ]
  },
  {
   "cell_type": "code",
   "execution_count": 15,
   "metadata": {
    "collapsed": false
   },
   "outputs": [],
   "source": [
    "t, L = l.Lglobal(prms, 1e5*yr, 1e9*yr, 500)"
   ]
  },
  {
   "cell_type": "code",
   "execution_count": 22,
   "metadata": {
    "collapsed": true
   },
   "outputs": [],
   "source": [
    "delad = 2./7\n",
    "a = 0.1\n",
    "Mc = np.linspace(1, 10, 10) * Me\n",
    "rc = (3*Mc/(4*np.pi*rhoc))**(1./3)            "
   ]
  },
  {
   "cell_type": "code",
   "execution_count": 24,
   "metadata": {
    "collapsed": true
   },
   "outputs": [],
   "source": [
    "n = len(Mc)"
   ]
  },
  {
   "cell_type": "code",
   "execution_count": 23,
   "metadata": {
    "collapsed": false
   },
   "outputs": [
    {
     "name": "stdout",
     "output_type": "stream",
     "text": [
      "0\n",
      "1\n",
      "2\n",
      "3\n",
      "4\n",
      "5\n",
      "6\n",
      "7\n",
      "8\n",
      "9\n"
     ]
    }
   ],
   "source": [
    "L = np.ndarray(shape = (10, 500), dtype = float)\n",
    "for i in range(len(Mc)):\n",
    "                \n",
    "    prms = params(Mc[i], rc[i], a, delad, Y, gamma = gammafn(delad), R = Rfn(Y), \\\n",
    "        Cv = Cvfn(Y, delad), Pd = Pdisk(a, mstar, FSigma, FT), \\\n",
    "        Td = 1e3, kappa = 0.1)\n",
    "    L[i] = l.Lglobal(prms, 1e5*yr, 1e9*yr, 500)[1]\n",
    "    print i"
   ]
  },
  {
   "cell_type": "code",
   "execution_count": 39,
   "metadata": {
    "collapsed": false
   },
   "outputs": [
    {
     "data": {
      "image/png": "[encoded data removed]",
      "text/plain": [
       "<matplotlib.figure.Figure at 0x112ebead0>"
      ]
     },
     "metadata": {},
     "output_type": "display_data"
    }
   ],
   "source": [
    "fig = plt.figure(figsize = (4, 3))\n",
    "\n",
    "rnb = np.linspace(0, 256, n)\n",
    "Z = [[0,0],[0,0]]\n",
    "levels = Mc/Me\n",
    "CS = plt.contourf(Z, levels, cmap=get_cmap(cm.rainbow))\n",
    "\n",
    "for i in range(n):\n",
    "    plt.loglog(t/yr, L[i], c = cm.rainbow(int(rnb[i])))\n",
    "plt.xlim(1e5, 1e9)\n",
    "plt.ylim(1e21, 1e27)\n",
    "\n",
    "plt.xlabel('t [yr]')\n",
    "plt.ylabel(r'Luminosity [erg s$^{-1}$]')\n",
    "plt.title(r'a = 0.1 AU')\n",
    "\n",
    "cbar = fig.colorbar(CS)\n",
    "cbar.set_label(r'$M_{\\rm c}$ [$M_{\\odot}$]')\n",
    "\n",
    "plt.tight_layout()\n",
    "plt.savefig('../figs/L_0.1_AU.pdf')"
   ]
  },
  {
   "cell_type": "code",
   "execution_count": null,
   "metadata": {
    "collapsed": false
   },
   "outputs": [],
   "source": []
  },
  {
   "cell_type": "code",
   "execution_count": null,
   "metadata": {
    "collapsed": true
   },
   "outputs": [],
   "source": []
  }
 ],
 "metadata": {
  "kernelspec": {
   "display_name": "Python 2",
   "language": "python",
   "name": "python2"
  },
  "language_info": {
   "codemirror_mode": {
    "name": "ipython",
    "version": 2
   },
   "file_extension": ".py",
   "mimetype": "text/x-python",
   "name": "python",
   "nbconvert_exporter": "python",
   "pygments_lexer": "ipython2",
   "version": "2.7.11"
  }
 },
 "nbformat": 4,
 "nbformat_minor": 0
}
