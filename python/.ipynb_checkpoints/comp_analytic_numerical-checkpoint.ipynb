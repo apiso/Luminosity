{
 "cells": [
  {
   "cell_type": "code",
   "execution_count": 1,
   "metadata": {
    "collapsed": false
   },
   "outputs": [
    {
     "name": "stdout",
     "output_type": "stream",
     "text": [
      "Populating the interactive namespace from numpy and matplotlib\n"
     ]
    }
   ],
   "source": [
    "%pylab inline"
   ]
  },
  {
   "cell_type": "code",
   "execution_count": 24,
   "metadata": {
    "collapsed": false
   },
   "outputs": [
    {
     "data": {
      "text/plain": [
       "<module 'cooling' from 'cooling.pyc'>"
      ]
     },
     "execution_count": 24,
     "metadata": {},
     "output_type": "execute_result"
    }
   ],
   "source": [
    "import numpy as np\n",
    "import luminosity_analytic as l\n",
    "import luminosity_numerical_no_SG as ln\n",
    "from utils.constants import G, kb, mp, Rb, Me, Re, Msun, RH, RHe, sigma, \\\n",
    "    cmperau, RHill, gammafn, mufn, Rfn, Cvfn, kdust, Tdisk, Pdisk, params, yr, kconst, kdustall\n",
    "from utils.parameters import FT, FSigma, mstar, Y, delad, rhoc, Mc, rc, \\\n",
    "    gamma, Y, a\n",
    "import profiles_no_SG as atm\n",
    "import cooling as cool\n",
    "from scipy.interpolate import interp1d\n",
    "    \n",
    "reload(l)\n",
    "reload(ln)\n",
    "reload(atm)\n",
    "reload(cool)"
   ]
  },
  {
   "cell_type": "code",
   "execution_count": 3,
   "metadata": {
    "collapsed": true
   },
   "outputs": [],
   "source": [
    "delad = 2./7\n",
    "a = 0.1\n",
    "Mc = 10 * Me\n",
    "rc = (3*Mc/(4*np.pi*rhoc))**(1./3)            \n",
    "    \n",
    "A = 5 * np.pi / 16\n",
    "mu = 2.35 * mp\n",
    "gammac = 4./3\n",
    "muc = 60 * mp\n",
    "\n",
    "            \n",
    "prms = params(Mc, rc, a, delad, Y, gamma = gammafn(delad), R = Rfn(Y), \\\n",
    "    Cv = Cvfn(Y, delad), Pd = Pdisk(a, mstar, FSigma, FT), \\\n",
    "    Td = 1e3, kappa = kconst)"
   ]
  },
  {
   "cell_type": "code",
   "execution_count": 6,
   "metadata": {
    "collapsed": true
   },
   "outputs": [],
   "source": [
    "t, L = l.Lglobal(l.prms, 1e3*yr, 3e6*yr, 500)"
   ]
  },
  {
   "cell_type": "code",
   "execution_count": 7,
   "metadata": {
    "collapsed": false
   },
   "outputs": [],
   "source": [
    "model, param, prof = atm.atmload('a01Mc10', prms)"
   ]
  },
  {
   "cell_type": "code",
   "execution_count": 8,
   "metadata": {
    "collapsed": true
   },
   "outputs": [],
   "source": [
    "M = []\n",
    "for i in range(len(t)):\n",
    "    M = np.append(M, l.Matm(t[i], l.RBp(l.prms), l.prms))"
   ]
  },
  {
   "cell_type": "code",
   "execution_count": 9,
   "metadata": {
    "collapsed": false
   },
   "outputs": [
    {
     "data": {
      "image/png": "[encoded data removed]",
      "text/plain": [
       "<matplotlib.figure.Figure at 0x10cbddb50>"
      ]
     },
     "metadata": {},
     "output_type": "display_data"
    }
   ],
   "source": [
    "plt.semilogy(M / Me, L, label = 'analytic')\n",
    "plt.semilogy(param.Mtot - model.Mco / Me, param.L, label = 'numerical')\n",
    "plt.xlim(xmax = 2.5)\n",
    "plt.xlabel(r'$M_{\\rm atm}$ [$M_{\\oplus}$]')\n",
    "plt.ylabel(r'L [erg s$^{-1}$]')\n",
    "plt.legend(frameon = False)\n",
    "\n",
    "plt.savefig('../figs/comp_L_vs_M.pdf')"
   ]
  },
  {
   "cell_type": "code",
   "execution_count": 10,
   "metadata": {
    "collapsed": false
   },
   "outputs": [],
   "source": [
    "dt = cool.cooling_global(param, prof, model, out='rout')[0]\n",
    "\n",
    "time = []\n",
    "for i in range(len(dt)):\n",
    "    time = np.append(time, sum(dt[:i + 1]))"
   ]
  },
  {
   "cell_type": "code",
   "execution_count": 11,
   "metadata": {
    "collapsed": false
   },
   "outputs": [
    {
     "data": {
      "image/png": "[encoded data removed]",
      "text/plain": [
       "<matplotlib.figure.Figure at 0x10d0f5210>"
      ]
     },
     "metadata": {},
     "output_type": "display_data"
    }
   ],
   "source": [
    "plt.loglog(t / yr, L, label = 'analytic')\n",
    "plt.loglog(time / yr, param.L[:-1], label = 'numerical')\n",
    "plt.xlim(xmin = 1e3, xmax = 1e8)\n",
    "plt.legend(frameon = False)\n",
    "plt.xlabel('t [yr]')\n",
    "plt.ylabel(r'L [erg s$^{-1}$]')\n",
    "\n",
    "plt.savefig('../figs/comp_L_vs_t.pdf')"
   ]
  },
  {
   "cell_type": "code",
   "execution_count": 25,
   "metadata": {
    "collapsed": false
   },
   "outputs": [],
   "source": [
    "prms2 = params(Mc, rc, a, delad, Y, gamma = gammafn(delad), R = Rfn(Y), \\\n",
    "    Cv = Cvfn(Y, delad), Pd = Pdisk(a, mstar, FSigma, FT), \\\n",
    "    Td = 1e3, kappa = kdust)\n",
    "\n",
    "model2, param2, prof2 = atm.atmload('a01Mc10', prms2)"
   ]
  },
  {
   "cell_type": "code",
   "execution_count": 13,
   "metadata": {
    "collapsed": false
   },
   "outputs": [
    {
     "ename": "UnboundLocalError",
     "evalue": "local variable 'npzdat' referenced before assignment",
     "output_type": "error",
     "traceback": [
      "\u001b[0;31m---------------------------------------------------------------------------\u001b[0m",
      "\u001b[0;31mUnboundLocalError\u001b[0m                         Traceback (most recent call last)",
      "\u001b[0;32m<ipython-input-13-315dd3d26ea7>\u001b[0m in \u001b[0;36m<module>\u001b[0;34m()\u001b[0m\n\u001b[1;32m      1\u001b[0m \u001b[0mprms3\u001b[0m \u001b[0;34m=\u001b[0m \u001b[0mparams\u001b[0m\u001b[0;34m(\u001b[0m\u001b[0mMc\u001b[0m\u001b[0;34m,\u001b[0m \u001b[0mrc\u001b[0m\u001b[0;34m,\u001b[0m \u001b[0;36m5.0\u001b[0m\u001b[0;34m,\u001b[0m \u001b[0mdelad\u001b[0m\u001b[0;34m,\u001b[0m \u001b[0mY\u001b[0m\u001b[0;34m,\u001b[0m \u001b[0mgamma\u001b[0m \u001b[0;34m=\u001b[0m \u001b[0mgammafn\u001b[0m\u001b[0;34m(\u001b[0m\u001b[0mdelad\u001b[0m\u001b[0;34m)\u001b[0m\u001b[0;34m,\u001b[0m \u001b[0mR\u001b[0m \u001b[0;34m=\u001b[0m \u001b[0mRfn\u001b[0m\u001b[0;34m(\u001b[0m\u001b[0mY\u001b[0m\u001b[0;34m)\u001b[0m\u001b[0;34m,\u001b[0m     \u001b[0mCv\u001b[0m \u001b[0;34m=\u001b[0m \u001b[0mCvfn\u001b[0m\u001b[0;34m(\u001b[0m\u001b[0mY\u001b[0m\u001b[0;34m,\u001b[0m \u001b[0mdelad\u001b[0m\u001b[0;34m)\u001b[0m\u001b[0;34m,\u001b[0m \u001b[0mPd\u001b[0m \u001b[0;34m=\u001b[0m \u001b[0mPdisk\u001b[0m\u001b[0;34m(\u001b[0m\u001b[0ma\u001b[0m\u001b[0;34m,\u001b[0m \u001b[0mmstar\u001b[0m\u001b[0;34m,\u001b[0m \u001b[0mFSigma\u001b[0m\u001b[0;34m,\u001b[0m \u001b[0mFT\u001b[0m\u001b[0;34m)\u001b[0m\u001b[0;34m,\u001b[0m     \u001b[0mTd\u001b[0m \u001b[0;34m=\u001b[0m \u001b[0;36m60.\u001b[0m\u001b[0;34m,\u001b[0m \u001b[0mkappa\u001b[0m \u001b[0;34m=\u001b[0m \u001b[0mkdust\u001b[0m\u001b[0;34m)\u001b[0m\u001b[0;34m\u001b[0m\u001b[0m\n\u001b[1;32m      2\u001b[0m \u001b[0;34m\u001b[0m\u001b[0m\n\u001b[0;32m----> 3\u001b[0;31m \u001b[0mmodel3\u001b[0m\u001b[0;34m,\u001b[0m \u001b[0mparam3\u001b[0m\u001b[0;34m,\u001b[0m \u001b[0mprof3\u001b[0m \u001b[0;34m=\u001b[0m \u001b[0matm\u001b[0m\u001b[0;34m.\u001b[0m\u001b[0matmload\u001b[0m\u001b[0;34m(\u001b[0m\u001b[0;34m'a5Mc10'\u001b[0m\u001b[0;34m,\u001b[0m \u001b[0mprms3\u001b[0m\u001b[0;34m)\u001b[0m\u001b[0;34m\u001b[0m\u001b[0m\n\u001b[0m",
      "\u001b[0;32m/Users/anamariapiso/repos/Luminosity/python/atmseries.pyc\u001b[0m in \u001b[0;36matmload\u001b[0;34m(filename, prms, disk)\u001b[0m\n\u001b[1;32m    125\u001b[0m     \u001b[0;32melif\u001b[0m \u001b[0mprms\u001b[0m\u001b[0;34m.\u001b[0m\u001b[0mkappa\u001b[0m \u001b[0;34m==\u001b[0m \u001b[0mkdustall\u001b[0m\u001b[0;34m:\u001b[0m\u001b[0;34m\u001b[0m\u001b[0m\n\u001b[1;32m    126\u001b[0m         \u001b[0mnpzdat\u001b[0m \u001b[0;34m=\u001b[0m \u001b[0mnp\u001b[0m\u001b[0;34m.\u001b[0m\u001b[0mload\u001b[0m\u001b[0;34m(\u001b[0m\u001b[0;34m'../dat/NO_SG/k_dust/'\u001b[0m \u001b[0;34m+\u001b[0m \u001b[0mfilename\u001b[0m \u001b[0;34m+\u001b[0m \u001b[0;34m'.npz'\u001b[0m\u001b[0;34m)\u001b[0m\u001b[0;34m\u001b[0m\u001b[0m\n\u001b[0;32m--> 127\u001b[0;31m     \u001b[0mmodel\u001b[0m \u001b[0;34m=\u001b[0m \u001b[0mnpzdat\u001b[0m\u001b[0;34m[\u001b[0m\u001b[0;34m'model'\u001b[0m\u001b[0;34m]\u001b[0m\u001b[0;34m.\u001b[0m\u001b[0mview\u001b[0m\u001b[0;34m(\u001b[0m\u001b[0mnp\u001b[0m\u001b[0;34m.\u001b[0m\u001b[0mrecarray\u001b[0m\u001b[0;34m)\u001b[0m\u001b[0;34m\u001b[0m\u001b[0m\n\u001b[0m\u001b[1;32m    128\u001b[0m     \u001b[0mparam\u001b[0m \u001b[0;34m=\u001b[0m \u001b[0mnpzdat\u001b[0m\u001b[0;34m[\u001b[0m\u001b[0;34m'param'\u001b[0m\u001b[0;34m]\u001b[0m\u001b[0;34m.\u001b[0m\u001b[0mview\u001b[0m\u001b[0;34m(\u001b[0m\u001b[0mnp\u001b[0m\u001b[0;34m.\u001b[0m\u001b[0mrecarray\u001b[0m\u001b[0;34m)\u001b[0m\u001b[0;34m\u001b[0m\u001b[0m\n\u001b[1;32m    129\u001b[0m     \u001b[0mprof\u001b[0m \u001b[0;34m=\u001b[0m \u001b[0mnpzdat\u001b[0m\u001b[0;34m[\u001b[0m\u001b[0;34m'prof'\u001b[0m\u001b[0;34m]\u001b[0m\u001b[0;34m.\u001b[0m\u001b[0mview\u001b[0m\u001b[0;34m(\u001b[0m\u001b[0mnp\u001b[0m\u001b[0;34m.\u001b[0m\u001b[0mrecarray\u001b[0m\u001b[0;34m)\u001b[0m\u001b[0;34m\u001b[0m\u001b[0m\n",
      "\u001b[0;31mUnboundLocalError\u001b[0m: local variable 'npzdat' referenced before assignment"
     ]
    }
   ],
   "source": [
    "prms3 = params(Mc, rc, 5.0, delad, Y, gamma = gammafn(delad), R = Rfn(Y), \\\n",
    "    Cv = Cvfn(Y, delad), Pd = Pdisk(a, mstar, FSigma, FT), \\\n",
    "    Td = 60., kappa = kdust)\n",
    "\n",
    "model3, param3, prof3 = atm.atmload('a5Mc10', prms3)"
   ]
  },
  {
   "cell_type": "code",
   "execution_count": 28,
   "metadata": {
    "collapsed": false
   },
   "outputs": [],
   "source": [
    "c2 = cool.cooling_global(param2, prof2, model2, out = 'rcb')"
   ]
  },
  {
   "cell_type": "code",
   "execution_count": 305,
   "metadata": {
    "collapsed": false
   },
   "outputs": [],
   "source": [
    "c3 = cool.cooling_global(param3, prof3, model3, out = 'rcb')"
   ]
  },
  {
   "cell_type": "code",
   "execution_count": 306,
   "metadata": {
    "collapsed": false
   },
   "outputs": [],
   "source": [
    "c1 = cool.cooling_global(param, prof, model, out='rout')"
   ]
  },
  {
   "cell_type": "code",
   "execution_count": 307,
   "metadata": {
    "collapsed": false
   },
   "outputs": [],
   "source": [
    "cneg1 = cool.cooling_local(param, prof, model, out='rout', onlyrad = 1)"
   ]
  },
  {
   "cell_type": "code",
   "execution_count": 29,
   "metadata": {
    "collapsed": false
   },
   "outputs": [],
   "source": [
    "cneg2 = cool.cooling_local(param2, prof2, model2, out='rcb', onlyrad = 1)"
   ]
  },
  {
   "cell_type": "code",
   "execution_count": 30,
   "metadata": {
    "collapsed": false
   },
   "outputs": [
    {
     "data": {
      "text/plain": [
       "array([-0.        ,  0.00784812,  0.0096285 ,  0.01116964,  0.01177573,\n",
       "        0.01195222,  0.01275688,  0.01291042,  0.01302631,  0.01341022,\n",
       "        0.01354856,  0.01396423,  0.01391616,  0.01426792,  0.01450241,\n",
       "        0.01472937,  0.01494267,  0.01513748,  0.01564185,  0.01586534,\n",
       "        0.0163636 ,  0.01660773,  0.01708601,  0.01774508,  0.01845184,\n",
       "        0.01920532,  0.02000512,  0.02085045,  0.02174118,  0.02267713,\n",
       "        0.02365755,  0.02468231,  0.02655338,  0.02859025,  0.02991112,\n",
       "        0.03240191,  0.03523188,  0.03847367,  0.04229946,  0.04680869,\n",
       "        0.05244058,  0.05958159,  0.06445678,  0.06183443,  0.0585479 ,\n",
       "        0.05580465,  0.05290045,  0.05042333,  0.04804808])"
      ]
     },
     "execution_count": 30,
     "metadata": {},
     "output_type": "execute_result"
    }
   ],
   "source": [
    "cneg2 / (param2.Etotcb[1:]-param2.Etotcb[:-1])"
   ]
  },
  {
   "cell_type": "code",
   "execution_count": 31,
   "metadata": {
    "collapsed": false
   },
   "outputs": [],
   "source": [
    "dt2 = c2[0]\n",
    "time2 = []\n",
    "for i in range(len(dt2)):\n",
    "    time2 = np.append(time2, sum(dt2[:i + 1]))"
   ]
  },
  {
   "cell_type": "code",
   "execution_count": 32,
   "metadata": {
    "collapsed": false
   },
   "outputs": [
    {
     "data": {
      "text/plain": [
       "<matplotlib.text.Text at 0x112d097d0>"
      ]
     },
     "execution_count": 32,
     "metadata": {},
     "output_type": "execute_result"
    },
    {
     "data": {
      "image/png": "[encoded data removed]",
      "text/plain": [
       "<matplotlib.figure.Figure at 0x10fe7cbd0>"
      ]
     },
     "metadata": {},
     "output_type": "display_data"
    }
   ],
   "source": [
    "plt.loglog(time2 / yr, param2.L[:-1], label = r'$\\kappa$ = 0.1 cm$^2$ g$^{-1}$')\n",
    "plt.loglog(time / yr, param.L[:-1], label = r'$\\kappa$ = $\\kappa_{\\rm ISM}$')\n",
    "plt.xlim(xmin = 1e5, xmax = 3e6)\n",
    "plt.legend(frameon = False)\n",
    "plt.xlabel('t [yr]')\n",
    "plt.ylabel(r'L [erg s$^{-1}$]')"
   ]
  },
  {
   "cell_type": "code",
   "execution_count": 33,
   "metadata": {
    "collapsed": false
   },
   "outputs": [
    {
     "data": {
      "text/plain": [
       "<matplotlib.legend.Legend at 0x112c11190>"
      ]
     },
     "execution_count": 33,
     "metadata": {},
     "output_type": "execute_result"
    },
    {
     "data": {
      "image/png": "[encoded data removed]",
      "text/plain": [
       "<matplotlib.figure.Figure at 0x10fe7ca10>"
      ]
     },
     "metadata": {},
     "output_type": "display_data"
    }
   ],
   "source": [
    "plt.semilogy(param.Mtot - model.Mco / Me, param.L, label = r'$\\kappa$ = 0.1 cm$^2$ g$^{-1}$')\n",
    "plt.semilogy(param2.Mtot - model2.Mco / Me, param2.L, label = r'$\\kappa$ = $\\kappa_{\\rm ISM}$')\n",
    "plt.xlim(xmax = 8)\n",
    "plt.xlabel(r'$M_{\\rm atm}$ [$M_{\\oplus}$]')\n",
    "plt.ylabel(r'L [erg s$^{-1}$]')\n",
    "plt.legend(frameon = False)\n",
    "\n",
    "#plt.savefig('../figs/comp_L_vs_M.pdf')"
   ]
  },
  {
   "cell_type": "code",
   "execution_count": 181,
   "metadata": {
    "collapsed": false
   },
   "outputs": [],
   "source": [
    "prmsPd10 = params(Mc, rc, 0.1, delad, Y, gamma = gammafn(delad), R = Rfn(Y), \\\n",
    "    Cv = Cvfn(Y, delad), Pd = Pdisk(a, mstar, FSigma, FT) * 1e-10, \\\n",
    "    Td = 1e3, kappa = kdust)\n",
    "\n",
    "modelPd10, paramPd10, profPd10 = atm.atmload('a01Mc10Pd10', prmsPd10)\n",
    "cPd10 = cool.cooling_global(paramPd10, profPd10, modelPd10, out = 'rout')\n",
    "\n",
    "dtPd10 = cPd10[0]\n",
    "timePd10 = []\n",
    "for i in range(len(dtPd10)):\n",
    "    timePd10 = np.append(timePd10, sum(dtPd10[:i + 1]))"
   ]
  },
  {
   "cell_type": "code",
   "execution_count": 183,
   "metadata": {
    "collapsed": false
   },
   "outputs": [
    {
     "data": {
      "text/plain": [
       "<matplotlib.legend.Legend at 0x11a66f6d0>"
      ]
     },
     "execution_count": 183,
     "metadata": {},
     "output_type": "execute_result"
    },
    {
     "data": {
      "image/png": "[encoded data removed]",
      "text/plain": [
       "<matplotlib.figure.Figure at 0x118f15a10>"
      ]
     },
     "metadata": {},
     "output_type": "display_data"
    }
   ],
   "source": [
    "plt.semilogy(param2.Mtot - model2.Mco / Me, param2.L, label = r'$P_{rm d}$')\n",
    "plt.semilogy(paramPd10.Mtot - modelPd10.Mco / Me, paramPd10.L, \\\n",
    "             label = r'$P_{\\rm d} \\times 10^{-10}$')\n",
    "plt.xlabel(r'$M_{\\rm atm}$ [$M_{\\oplus}$]')\n",
    "plt.ylabel(r'L [erg s$^{-1}$]')\n",
    "plt.legend(frameon = False)"
   ]
  },
  {
   "cell_type": "code",
   "execution_count": 184,
   "metadata": {
    "collapsed": false
   },
   "outputs": [
    {
     "data": {
      "text/plain": [
       "[<matplotlib.lines.Line2D at 0x11a62e710>]"
      ]
     },
     "execution_count": 184,
     "metadata": {},
     "output_type": "execute_result"
    },
    {
     "data": {
      "image/png": "[encoded data removed]",
      "text/plain": [
       "<matplotlib.figure.Figure at 0x119421a90>"
      ]
     },
     "metadata": {},
     "output_type": "display_data"
    }
   ],
   "source": [
    "plt.loglog(time2 / yr, param2.L[:-1])\n",
    "plt.loglog(timePd10 / yr, paramPd10.L[:-1])"
   ]
  },
  {
   "cell_type": "code",
   "execution_count": 340,
   "metadata": {
    "collapsed": false
   },
   "outputs": [
    {
     "data": {
      "text/plain": [
       "40.196910519647531"
      ]
     },
     "execution_count": 340,
     "metadata": {},
     "output_type": "execute_result"
    }
   ],
   "source": [
    "sum(cool.cooling_global(param2, prof2, model2, out = 'rcb')[0][:-4])/yr/1e6"
   ]
  },
  {
   "cell_type": "code",
   "execution_count": 344,
   "metadata": {
    "collapsed": false
   },
   "outputs": [
    {
     "data": {
      "text/plain": [
       "168.59083802521778"
      ]
     },
     "execution_count": 344,
     "metadata": {},
     "output_type": "execute_result"
    }
   ],
   "source": [
    "time2[-5]/1e6/yr"
   ]
  },
  {
   "cell_type": "code",
   "execution_count": 302,
   "metadata": {
    "collapsed": false
   },
   "outputs": [
    {
     "data": {
      "text/plain": [
       "4796.3367417876516"
      ]
     },
     "execution_count": 302,
     "metadata": {},
     "output_type": "execute_result"
    }
   ],
   "source": [
    "time2[-1]/yr/1e6"
   ]
  },
  {
   "cell_type": "code",
   "execution_count": 286,
   "metadata": {
    "collapsed": false
   },
   "outputs": [
    {
     "data": {
      "text/plain": [
       "<matplotlib.lines.Line2D at 0x128370e90>"
      ]
     },
     "execution_count": 286,
     "metadata": {},
     "output_type": "execute_result"
    },
    {
     "data": {
      "image/png": "[encoded data removed]",
      "text/plain": [
       "<matplotlib.figure.Figure at 0x1270796d0>"
      ]
     },
     "metadata": {},
     "output_type": "display_data"
    }
   ],
   "source": [
    "plt.loglog(prof2.r[20], prof2.delrad[30])\n",
    "plt.loglog(prof2.r[20], np.ones(500) * 2./7)\n",
    "plt.axvline(x = param2.rcb[30] * Re)"
   ]
  },
  {
   "cell_type": "code",
   "execution_count": 247,
   "metadata": {
    "collapsed": false
   },
   "outputs": [
    {
     "data": {
      "text/plain": [
       "[<matplotlib.lines.Line2D at 0x121aac410>]"
      ]
     },
     "execution_count": 247,
     "metadata": {},
     "output_type": "execute_result"
    },
    {
     "data": {
      "image/png": "[encoded data removed]",
      "text/plain": [
       "<matplotlib.figure.Figure at 0x123375310>"
      ]
     },
     "metadata": {},
     "output_type": "display_data"
    }
   ],
   "source": [
    "plt.loglog(prof2.t[20], prof2.P[20])\n",
    "plt.plot(param2.Tcb[20], param2.Pcb[20], 'o')"
   ]
  },
  {
   "cell_type": "code",
   "execution_count": 283,
   "metadata": {
    "collapsed": false
   },
   "outputs": [
    {
     "data": {
      "text/plain": [
       "[<matplotlib.lines.Line2D at 0x12785cfd0>]"
      ]
     },
     "execution_count": 283,
     "metadata": {},
     "output_type": "execute_result"
    },
    {
     "data": {
      "image/png": "[encoded data removed]",
      "text/plain": [
       "<matplotlib.figure.Figure at 0x11e0e0d50>"
      ]
     },
     "metadata": {},
     "output_type": "display_data"
    }
   ],
   "source": [
    "plt.loglog(prof2.r[20], prof2.P[20])\n",
    "plt.plot(param2.rcb[20]*Re, param2.Pcb[20], 'o')"
   ]
  },
  {
   "cell_type": "code",
   "execution_count": 379,
   "metadata": {
    "collapsed": false
   },
   "outputs": [
    {
     "data": {
      "text/plain": [
       "array(10.953008497249893)"
      ]
     },
     "execution_count": 379,
     "metadata": {},
     "output_type": "execute_result"
    }
   ],
   "source": [
    "f = interp1d(time2 / yr, param2.Mtot[1:])\n",
    "f(3e6)"
   ]
  },
  {
   "cell_type": "code",
   "execution_count": 405,
   "metadata": {
    "collapsed": false
   },
   "outputs": [
    {
     "name": "stdout",
     "output_type": "stream",
     "text": [
      "12.5764957461 50.6079193827\n"
     ]
    }
   ],
   "source": [
    "print param2.rcb[39], param2.rout[39]"
   ]
  },
  {
   "cell_type": "code",
   "execution_count": 401,
   "metadata": {
    "collapsed": false
   },
   "outputs": [
    {
     "name": "stdout",
     "output_type": "stream",
     "text": [
      "[ -2.95634208e+39] -2.6674960955e+39\n"
     ]
    }
   ],
   "source": [
    "print - G * model2.Mco * (param2.Mtot[39] * Me - model2.Mco) / (param2.rcb[39] * Re) + \\\n",
    "    model2.Cv * param2.Tcb[39] * param2.Mtot[39], param2.Etotout[39]"
   ]
  },
  {
   "cell_type": "code",
   "execution_count": 398,
   "metadata": {
    "collapsed": false
   },
   "outputs": [
    {
     "name": "stdout",
     "output_type": "stream",
     "text": [
      "11.8609049275 4687685.73493\n"
     ]
    }
   ],
   "source": [
    "f = interp1d(time / yr, param.Mtot[1:])\n",
    "f(3e6)\n",
    "print param.Mtot[42], time[42]/yr"
   ]
  },
  {
   "cell_type": "code",
   "execution_count": 402,
   "metadata": {
    "collapsed": false
   },
   "outputs": [
    {
     "name": "stdout",
     "output_type": "stream",
     "text": [
      "[ -1.37460759e+39] -5.48028950584e+39\n"
     ]
    }
   ],
   "source": [
    "print - G * model.Mco * (param.Mtot[42] * Me - model.Mco) / (param.rcb[42] * Re) + \\\n",
    "    model.Cv * param.Tcb[42] * param.Mtot[42], param.Etotout[42]"
   ]
  },
  {
   "cell_type": "code",
   "execution_count": 389,
   "metadata": {
    "collapsed": false
   },
   "outputs": [
    {
     "data": {
      "text/plain": [
       "[<matplotlib.lines.Line2D at 0x12d778610>]"
      ]
     },
     "execution_count": 389,
     "metadata": {},
     "output_type": "execute_result"
    },
    {
     "data": {
      "image/png": "[encoded data removed]",
      "text/plain": [
       "<matplotlib.figure.Figure at 0x12b649990>"
      ]
     },
     "metadata": {},
     "output_type": "display_data"
    }
   ],
   "source": [
    "plt.loglog(prof2.r[39], - (- G * prof2.m[39] / prof2.r[39] + model2.Cv * prof2.t[39]) * \\\n",
    "           prof2.rho[39] * prof2.r[39]**3)"
   ]
  },
  {
   "cell_type": "code",
   "execution_count": 22,
   "metadata": {
    "collapsed": false
   },
   "outputs": [
    {
     "data": {
      "text/plain": [
       "50"
      ]
     },
     "execution_count": 22,
     "metadata": {},
     "output_type": "execute_result"
    }
   ],
   "source": [
    "len(param2.Mtot)"
   ]
  },
  {
   "cell_type": "code",
   "execution_count": 21,
   "metadata": {
    "collapsed": false
   },
   "outputs": [
    {
     "data": {
      "text/plain": [
       "array([ 16746.6968198 ,  16698.80508319,  16650.9133108 ,  16603.02153838,\n",
       "        16555.12976566,  16507.23799473,  16459.34623799,  16411.45444795,\n",
       "        16363.56267538,  16315.67090254,  16267.77913024,  16219.88735816,\n",
       "        16171.9955851 ,  16124.10383274,  16076.2120401 ,  16028.3202686 ,\n",
       "        15980.42849476,  15932.53672243,  15884.64494966,  15836.7531771 ,\n",
       "        15788.86140457,  15740.96963179,  15693.07785944,  15645.18608672,\n",
       "        15597.29433396,  15549.40254168,  15501.51076925,  15453.61899654,\n",
       "        15405.72721286,  15357.8354514 ,  15309.94367883,  15262.05189956,\n",
       "        15214.16013366,  15166.26836037,  15118.37658859,  15070.48481603,\n",
       "        15022.59304338,  14974.70127086,  14926.8095009 ,  14878.9177257 ,\n",
       "        14831.02595305,  14783.13417577,  14735.24240478,  14687.35062436,\n",
       "        14639.45885499,  14591.56707838,  14543.67525088,  14495.78357319,\n",
       "        14447.89179213,  14400.00008368])"
      ]
     },
     "execution_count": 21,
     "metadata": {},
     "output_type": "execute_result"
    }
   ],
   "source": [
    "param2.Tc"
   ]
  },
  {
   "cell_type": "code",
   "execution_count": null,
   "metadata": {
    "collapsed": true
   },
   "outputs": [],
   "source": []
  }
 ],
 "metadata": {
  "kernelspec": {
   "display_name": "Python 2",
   "language": "python",
   "name": "python2"
  },
  "language_info": {
   "codemirror_mode": {
    "name": "ipython",
    "version": 2
   },
   "file_extension": ".py",
   "mimetype": "text/x-python",
   "name": "python",
   "nbconvert_exporter": "python",
   "pygments_lexer": "ipython2",
   "version": "2.7.11"
  }
 },
 "nbformat": 4,
 "nbformat_minor": 0
}
