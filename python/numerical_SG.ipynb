{
 "cells": [
  {
   "cell_type": "code",
   "execution_count": 1,
   "metadata": {
    "collapsed": false
   },
   "outputs": [
    {
     "name": "stdout",
     "output_type": "stream",
     "text": [
      "Populating the interactive namespace from numpy and matplotlib\n"
     ]
    }
   ],
   "source": [
    "%pylab inline"
   ]
  },
  {
   "cell_type": "code",
   "execution_count": 2,
   "metadata": {
    "collapsed": false
   },
   "outputs": [
    {
     "data": {
      "text/plain": [
       "<module 'cooling' from 'cooling.pyc'>"
      ]
     },
     "execution_count": 2,
     "metadata": {},
     "output_type": "execute_result"
    }
   ],
   "source": [
    "import numpy as np\n",
    "import luminosity_analytic as l\n",
    "import luminosity_numerical_no_SG as ln\n",
    "import luminosity_numerical_SG as lsg\n",
    "from utils.constants import G, kb, mp, Rb, Me, Re, Msun, RH, RHe, sigma, \\\n",
    "    cmperau, RHill, gammafn, mufn, Rfn, Cvfn, kdust, Tdisk, Pdisk, params, yr, kconst, kdust\n",
    "from utils.parameters import FT, FSigma, mstar, Y, delad, rhoc, Mc, rc, \\\n",
    "    gamma, Y, a\n",
    "import profiles_no_SG as atmnoSG\n",
    "import profiles_SG as atmSG\n",
    "\n",
    "import cooling as cool\n",
    "from scipy.interpolate import interp1d\n",
    "    \n",
    "reload(l)\n",
    "reload(ln)\n",
    "#reload(atm)\n",
    "reload(cool)"
   ]
  },
  {
   "cell_type": "code",
   "execution_count": 100,
   "metadata": {
    "collapsed": true
   },
   "outputs": [],
   "source": [
    "delad = 2./7\n",
    "a = 0.1\n",
    "Mc = 5 * Me\n",
    "rc = (3*Mc/(4*np.pi*rhoc))**(1./3)            \n",
    "    \n",
    "A = 5 * np.pi / 16\n",
    "mu = 2.35 * mp\n",
    "gammac = 4./3\n",
    "muc = 60 * mp\n",
    "\n",
    "            \n",
    "prms = params(Mc, rc, a, delad, Y, gamma = gammafn(delad), R = Rfn(Y), \\\n",
    "    Cv = Cvfn(Y, delad), Pd = Pdisk(a, mstar, FSigma, FT), \\\n",
    "    Td = 1e3, kappa = kdust)"
   ]
  },
  {
   "cell_type": "code",
   "execution_count": 101,
   "metadata": {
    "collapsed": true
   },
   "outputs": [],
   "source": [
    "#model, param, prof = atmnoSG.atmload('a01Mc10', prms)\n",
    "modelSG, paramSG, profSG = atmSG.atmload('a01Mc5', prms)"
   ]
  },
  {
   "cell_type": "code",
   "execution_count": 102,
   "metadata": {
    "collapsed": false
   },
   "outputs": [
    {
     "data": {
      "text/plain": [
       "<matplotlib.legend.Legend at 0x11c88da90>"
      ]
     },
     "execution_count": 102,
     "metadata": {},
     "output_type": "execute_result"
    },
    {
     "data": {
      "image/png": "[encoded data removed]",
      "text/plain": [
       "<matplotlib.figure.Figure at 0x11c53fa10>"
      ]
     },
     "metadata": {},
     "output_type": "display_data"
    }
   ],
   "source": [
    "#plt.semilogy((param.Mtot - model.Mco / Me) / (model.Mco/Me), param.L, label = 'no self gravity')\n",
    "plt.semilogy((paramSG.MB - modelSG.Mco / Me) / (modelSG.Mco/Me), paramSG.L, label = 'self gravity')\n",
    "plt.xlim(xmin = 0, xmax = 0.5)\n",
    "plt.xlabel(r'$M_{\\rm atm}/M_{\\rm core}$')\n",
    "plt.ylabel(r'L [erg s$^{-1}$]')\n",
    "plt.legend(frameon = False)\n",
    "#plt.ylim(ymin=5e20, ymax = 3e24)\n",
    "#plt.title(r'a = 0.1 AU, $M_{\\rm core}=10 M_{\\oplus}$')\n",
    "\n",
    "#plt.savefig('../figs/L_vs_M_SG_a01Mc10.pdf')"
   ]
  },
  {
   "cell_type": "code",
   "execution_count": null,
   "metadata": {
    "collapsed": false
   },
   "outputs": [],
   "source": []
  },
  {
   "cell_type": "code",
   "execution_count": 165,
   "metadata": {
    "collapsed": true
   },
   "outputs": [],
   "source": [
    "delad = 2./7\n",
    "a = 1.0\n",
    "Mc = 1 * Me\n",
    "rc = (3*Mc/(4*np.pi*rhoc))**(1./3)            \n",
    "    \n",
    "A = 5 * np.pi / 16\n",
    "mu = 2.35 * mp\n",
    "gammac = 4./3\n",
    "muc = 60 * mp\n",
    "\n",
    "            \n",
    "prms = params(Mc, rc, a, delad, Y, gamma = gammafn(delad), R = Rfn(Y), \\\n",
    "    Cv = Cvfn(Y, delad), Pd = Pdisk(a, mstar, FSigma, FT), \\\n",
    "    Td = Tdisk(a, FT), kappa = kdust)"
   ]
  },
  {
   "cell_type": "code",
   "execution_count": 166,
   "metadata": {
    "collapsed": false
   },
   "outputs": [],
   "source": [
    "#model, param, prof = atmnoSG.atmload('a10Mc5', prms)\n",
    "modelSG, paramSG, profSG = atmSG.atmload('a1Mc1', prms)"
   ]
  },
  {
   "cell_type": "code",
   "execution_count": 5,
   "metadata": {
    "collapsed": false
   },
   "outputs": [
    {
     "data": {
      "text/plain": [
       "<matplotlib.text.Text at 0x10ff0e610>"
      ]
     },
     "execution_count": 5,
     "metadata": {},
     "output_type": "execute_result"
    },
    {
     "data": {
      "image/png": "[encoded data removed]",
      "text/plain": [
       "<matplotlib.figure.Figure at 0x10cbd1b50>"
      ]
     },
     "metadata": {},
     "output_type": "display_data"
    }
   ],
   "source": [
    "plt.semilogy((param.Mtot - model.Mco / Me) / (model.Mco/Me), param.L, label = 'no self gravity')\n",
    "plt.semilogy((paramSG.MB - modelSG.Mco / Me) / (model.Mco/Me), paramSG.L, label = 'self gravity')\n",
    "plt.xlim(xmin = 0, xmax = 0.5)\n",
    "plt.xlabel(r'$M_{\\rm atm}/M_{\\rm core}$')\n",
    "plt.ylabel(r'L [erg s$^{-1}$]')\n",
    "plt.legend(frameon = False)\n",
    "#plt.ylim(ymin=5e23, ymax = 1e27)\n",
    "plt.title(r'a = 10 AU, $M_{\\rm core}=5 M_{\\oplus}$')\n",
    "\n",
    "#plt.savefig('../figs/L_vs_M_SG_a60Mc5.pdf')"
   ]
  },
  {
   "cell_type": "code",
   "execution_count": 167,
   "metadata": {
    "collapsed": false
   },
   "outputs": [],
   "source": [
    "#dt = cool.cooling_global(param, prof, model, out='rcb')[1]\n",
    "#dt2 = cool.cooling_global(param, prof, model, out='rout')[1]\n",
    "dtSG = cool.cooling_global(paramSG, profSG, modelSG, out='rcb')[1]\n",
    "dtSG2 = cool.cooling_global(paramSG, profSG, modelSG, out='RB')[1]\n",
    "\n",
    "#time, time2 = [], []\n",
    "#for i in range(len(dt)):\n",
    "#    time = np.append(time, sum(dt[:i + 1]))\n",
    "#for i in range(len(dt2)):\n",
    "#    time2 = np.append(time2, sum(dt2[:i + 1]))\n",
    "\n",
    "timeSG, timeSG2 = [], []\n",
    "for i in range(len(dtSG)):\n",
    "    timeSG = np.append(timeSG, sum(dtSG[:i + 1]))\n",
    "for i in range(len(dtSG2)):\n",
    "    timeSG2 = np.append(timeSG2, sum(dtSG2[:i + 1]))"
   ]
  },
  {
   "cell_type": "code",
   "execution_count": 168,
   "metadata": {
    "collapsed": false
   },
   "outputs": [
    {
     "data": {
      "text/plain": [
       "<matplotlib.text.Text at 0x11e97d5d0>"
      ]
     },
     "execution_count": 168,
     "metadata": {},
     "output_type": "execute_result"
    },
    {
     "data": {
      "image/png": "[encoded data removed]",
      "text/plain": [
       "<matplotlib.figure.Figure at 0x11e9e9090>"
      ]
     },
     "metadata": {},
     "output_type": "display_data"
    }
   ],
   "source": [
    "#plt.loglog(t / yr, L, label = 'analytic')\n",
    "#plt.loglog(time / yr, param.L[:-1], label = 'no self gravity')\n",
    "plt.loglog(timeSG / yr, paramSG.L[:-1], label = 'self gravity')\n",
    "plt.loglog(timeSG2 / yr, paramSG.L[:-1], label = 'self gravity')\n",
    "#plt.xlim(xmin = 1e3, xmax = 1e8)\n",
    "plt.legend(frameon = False)\n",
    "plt.xlabel('t [yr]')\n",
    "plt.ylabel(r'L [erg s$^{-1}$]')\n",
    "\n",
    "#plt.savefig('../figs/comp_L_vs_t.pdf')"
   ]
  },
  {
   "cell_type": "code",
   "execution_count": 83,
   "metadata": {
    "collapsed": false
   },
   "outputs": [
    {
     "data": {
      "text/plain": [
       "<matplotlib.text.Text at 0x11bb0b950>"
      ]
     },
     "execution_count": 83,
     "metadata": {},
     "output_type": "execute_result"
    },
    {
     "data": {
      "image/png": "[encoded data removed]",
      "text/plain": [
       "<matplotlib.figure.Figure at 0x117089a10>"
      ]
     },
     "metadata": {},
     "output_type": "display_data"
    }
   ],
   "source": [
    "plt.semilogy((param.Mtot[:-1] - model.Mco / Me) / (model.Mco/Me), time/yr, label = 'no self gravity')\n",
    "plt.semilogy((paramSG.MB[:-1] - modelSG.Mco / Me) / (model.Mco/Me), timeSG/yr, label = 'self gravity')\n",
    "plt.xlim(xmin = 0, xmax = 0.5)\n",
    "plt.xlabel(r'$M_{\\rm atm}/M_{\\rm core}$')\n",
    "plt.ylabel(r't [yr]')\n",
    "plt.legend(frameon = False, loc = 4)\n",
    "#plt.ylim(ymin=1e2, ymax = 1e8)\n",
    "plt.title(r'a = 10 AU, $M_{\\rm core}=5 M_{\\oplus}$')\n",
    "\n",
    "#plt.savefig('../figs/L_vs_M_SG_a01Mc10.pdf')"
   ]
  },
  {
   "cell_type": "code",
   "execution_count": 25,
   "metadata": {
    "collapsed": false
   },
   "outputs": [],
   "source": [
    "prms2 = params(Mc, rc, a, delad, Y, gamma = gammafn(delad), R = Rfn(Y), \\\n",
    "    Cv = Cvfn(Y, delad), Pd = Pdisk(a, mstar, FSigma, FT), \\\n",
    "    Td = 1e3, kappa = kdust)\n",
    "\n",
    "model2, param2, prof2 = atm.atmload('a01Mc10', prms2)"
   ]
  },
  {
   "cell_type": "code",
   "execution_count": 105,
   "metadata": {
    "collapsed": false
   },
   "outputs": [],
   "source": [
    "cneg1 = cool.cooling_local(paramSG, profSG, modelSG, out='rcb', onlyrad = 1)"
   ]
  },
  {
   "cell_type": "code",
   "execution_count": 106,
   "metadata": {
    "collapsed": false
   },
   "outputs": [
    {
     "data": {
      "text/plain": [
       "array([  8.51209432e-02,   6.72075567e-02,   4.91054413e-02,\n",
       "         3.74030793e-02,   2.96508448e-02,   2.42669832e-02,\n",
       "         2.03657476e-02,   1.74361750e-02,   1.51706965e-02,\n",
       "         1.33758130e-02,   1.19238223e-02,   1.07290612e-02,\n",
       "         9.73118601e-03,   8.88697662e-03,   8.16433525e-03,\n",
       "         7.54034646e-03,   6.99599897e-03,   6.51779674e-03,\n",
       "         6.09492761e-03,   5.71839323e-03,   5.38149768e-03,\n",
       "         5.07804680e-03,   4.80382157e-03,   4.55446487e-03,\n",
       "         4.32745193e-03,   4.11959147e-03,   3.92857083e-03,\n",
       "         3.75289548e-03,   3.59025521e-03,   3.43956665e-03,\n",
       "         3.29965178e-03,   3.16951413e-03,   3.04802374e-03,\n",
       "         2.93412611e-03,   2.82759182e-03,   2.72787531e-03,\n",
       "         2.63369121e-03,   2.54505660e-03,   2.46151480e-03,\n",
       "         2.38253834e-03,   2.30754734e-03,   2.23639748e-03,\n",
       "         2.16902957e-03,   2.10527030e-03,   2.04453119e-03,\n",
       "         1.98647544e-03,   1.93112694e-03,   1.87831645e-03,\n",
       "         1.82786826e-03,   1.77959787e-03,   1.73340464e-03,\n",
       "         1.68922418e-03,   1.64695562e-03,   1.60641069e-03,\n",
       "         1.56741146e-03,   1.52985449e-03,   1.49364918e-03,\n",
       "         1.45873018e-03,   1.42502803e-03,   1.39254121e-03,\n",
       "         1.36124836e-03,   1.33111750e-03,   1.30212030e-03,\n",
       "         1.27421353e-03,   1.24717483e-03,   1.22084634e-03,\n",
       "         1.19527377e-03,   1.17041656e-03,   1.14626052e-03,\n",
       "         1.12280895e-03,   1.10018315e-03,   1.07852611e-03,\n",
       "         1.05742297e-03,   1.03692198e-03,   1.01691119e-03,\n",
       "         9.97519971e-04,   9.78712860e-04,   9.60527868e-04,\n",
       "         9.42780591e-04,   9.25140534e-04,   9.07796939e-04,\n",
       "         8.90988471e-04,   8.74736762e-04,   8.59146546e-04,\n",
       "         8.44224818e-04,   8.29283529e-04,   8.14298961e-04,\n",
       "         7.99765353e-04,   7.85675501e-04,   7.72169351e-04,\n",
       "         7.59356798e-04,   7.46388523e-04,   7.33143801e-04,\n",
       "         7.20284197e-04,   7.08178721e-04,   6.96792533e-04,\n",
       "         6.85380858e-04,   6.73648127e-04,   6.61710184e-04,\n",
       "         6.50392965e-04,   6.40133413e-04,   6.30503022e-04,\n",
       "         6.20246776e-04,   6.09341284e-04,   5.98356862e-04,\n",
       "         5.88576055e-04,   5.80091179e-04,   5.71320849e-04,\n",
       "         5.61911517e-04,   5.51787481e-04,   5.42193319e-04,\n",
       "         5.34051814e-04,   5.26096703e-04,   5.17983148e-04,\n",
       "         5.09209699e-04,   5.00208446e-04,   4.92359642e-04,\n",
       "         4.84663365e-04,   4.77194967e-04,   4.69659290e-04,\n",
       "         4.61729430e-04,   4.54158414e-04,   4.46703173e-04,\n",
       "         4.39626803e-04,   4.32872586e-04,   4.26066728e-04,\n",
       "         4.18791908e-04,   4.11637657e-04,   4.04980759e-04,\n",
       "         3.98856207e-04,   3.92714600e-04,   3.85790896e-04,\n",
       "         3.79057645e-04,   3.72964162e-04,   3.67467757e-04,\n",
       "         3.61385889e-04,   3.54843461e-04,   3.48632327e-04,\n",
       "         3.43228618e-04,   3.37842176e-04,   3.31901914e-04,\n",
       "         3.25846741e-04,   3.20304289e-04,   3.15627311e-04,\n",
       "         3.09851120e-04,   3.04139438e-04,   2.98700068e-04,\n",
       "         2.94115948e-04,   2.89079861e-04,   2.83399683e-04,\n",
       "         2.78025526e-04,   2.73447781e-04,   2.69366271e-04,\n",
       "         2.63641180e-04,   2.58447094e-04,   2.53654273e-04,\n",
       "         2.50125674e-04,   2.45015617e-04,   2.39638978e-04,\n",
       "         2.34989572e-04,   2.31281824e-04,   2.27280614e-04,\n",
       "         2.21585763e-04,   2.17028591e-04,   2.13171044e-04,\n",
       "         2.09929029e-04,   2.04506614e-04,   1.99630834e-04,\n",
       "         1.96070098e-04,   1.92945693e-04,   1.88276525e-04,\n",
       "         1.82945328e-04,   1.79394412e-04,   1.76714414e-04,\n",
       "         1.72467248e-04,   1.66962735e-04,   1.63195750e-04,\n",
       "         1.60994043e-04,   1.57184370e-04,   1.51664756e-04,\n",
       "         1.47484838e-04,   1.45457148e-04,   1.42503701e-04,\n",
       "         1.37010589e-04,   1.32317346e-04,   1.30200416e-04,\n",
       "         1.28298745e-04,   1.23085172e-04,   1.17648971e-04,\n",
       "         1.15308862e-04,   1.14373853e-04,   1.09636831e-04,\n",
       "         1.03510791e-04,   1.00822436e-04,   1.00425152e-04,\n",
       "         9.66531124e-05,   9.01340692e-05,   8.66274369e-05,\n",
       "         8.65612232e-05,   8.39764548e-05,   7.75293845e-05,\n",
       "         7.28916421e-05,   7.28505857e-05,   7.14251834e-05,\n",
       "         6.54654710e-05,   5.96608116e-05,   5.92606787e-05,\n",
       "         5.88201217e-05,   5.37533488e-05,   4.70929073e-05,\n",
       "         4.58530759e-05,   4.62778436e-05,   4.22357958e-05,\n",
       "         3.51269415e-05,   3.27379541e-05,   3.37684679e-05,\n",
       "         3.09153673e-05,   2.37077371e-05,   2.01144446e-05,\n",
       "         2.13103693e-05,   1.94964944e-05,   1.28367947e-05,\n",
       "         7.99326172e-06,   8.93444462e-06,   8.02581975e-06,\n",
       "         2.23738152e-06,  -3.64365637e-06,  -3.35235009e-06,\n",
       "        -3.42406750e-06,  -8.17407531e-06,  -1.48404557e-05,\n",
       "        -1.52830604e-05,  -1.49301449e-05,  -1.84869042e-05,\n",
       "        -2.55965791e-05,  -2.68916025e-05,  -2.64427052e-05,\n",
       "        -2.88631823e-05,  -3.59598196e-05,  -3.82251293e-05,\n",
       "        -3.79830061e-05,  -3.94725494e-05,  -4.59933411e-05,\n",
       "        -4.92440496e-05,  -4.92787848e-05,  -5.01063864e-05,\n",
       "        -5.56783876e-05,  -6.00155202e-05,  -6.03273173e-05,\n",
       "        -6.08257420e-05,  -6.52246429e-05,  -7.04815792e-05,\n",
       "        -7.11304829e-05,  -7.16487660e-05,  -7.47806953e-05,\n",
       "        -8.06666208e-05,  -8.16796067e-05,  -8.24465774e-05,\n",
       "        -8.45754191e-05,  -9.04886966e-05,  -9.19929939e-05,\n",
       "        -9.30573574e-05,  -9.44791744e-05,  -1.00065413e-04,\n",
       "        -1.02129534e-04,  -1.03452376e-04,  -1.04666572e-04,\n",
       "        -1.09372599e-04,  -1.12050446e-04,  -1.13668136e-04,\n",
       "        -1.14945742e-04,  -1.18474481e-04,  -1.21817175e-04,\n",
       "        -1.23691481e-04,  -1.25167740e-04,  -1.27634779e-04,\n",
       "        -1.31421995e-04,  -1.33522762e-04,  -1.35252737e-04,\n",
       "        -1.37076705e-04,  -1.40911513e-04,  -1.43144165e-04,\n",
       "        -1.45198656e-04,  -1.46729829e-04,  -1.50370637e-04,\n",
       "        -1.52577143e-04,  -1.54958526e-04,  -1.56612660e-04,\n",
       "        -1.59635162e-04,  -1.61809159e-04,  -1.64555815e-04,\n",
       "        -1.66423093e-04,  -1.68781549e-04,  -1.71074039e-04,\n",
       "        -1.73961760e-04,  -1.76144132e-04,  -1.77974464e-04,\n",
       "        -1.80146460e-04,  -1.83169825e-04])"
      ]
     },
     "execution_count": 106,
     "metadata": {},
     "output_type": "execute_result"
    }
   ],
   "source": [
    "cneg1 / (paramSG.Etotcb[1:]-paramSG.Etotcb[:-1])"
   ]
  },
  {
   "cell_type": "code",
   "execution_count": 108,
   "metadata": {
    "collapsed": false
   },
   "outputs": [
    {
     "data": {
      "text/plain": [
       "[<matplotlib.lines.Line2D at 0x11d4b2110>]"
      ]
     },
     "execution_count": 108,
     "metadata": {},
     "output_type": "execute_result"
    },
    {
     "data": {
      "image/png": "[encoded data removed]",
      "text/plain": [
       "<matplotlib.figure.Figure at 0x11ad72690>"
      ]
     },
     "metadata": {},
     "output_type": "display_data"
    }
   ],
   "source": [
    "#plt.loglog(prof.t[20], prof.P[20])\n",
    "#plt.plot(param.Tcb[20], param.Pcb[20], 'o')\n",
    "\n",
    "plt.loglog(profSG.t[60], profSG.P[60])\n",
    "plt.plot(paramSG.Tcb[60], paramSG.Pcb[60], 'o')"
   ]
  },
  {
   "cell_type": "code",
   "execution_count": 86,
   "metadata": {
    "collapsed": false
   },
   "outputs": [
    {
     "data": {
      "text/plain": [
       "[<matplotlib.lines.Line2D at 0x117443c50>]"
      ]
     },
     "execution_count": 86,
     "metadata": {},
     "output_type": "execute_result"
    },
    {
     "data": {
      "image/png": "[encoded data removed]",
      "text/plain": [
       "<matplotlib.figure.Figure at 0x117354050>"
      ]
     },
     "metadata": {},
     "output_type": "display_data"
    }
   ],
   "source": [
    "plt.loglog(prof.r[20], prof.P[20])\n",
    "plt.plot(param.rcb[20]*Re, param.Pcb[20], 'o')\n",
    "\n",
    "plt.loglog(profSG.r[60], profSG.P[60])\n",
    "plt.plot(paramSG.rcb[60]*Re, paramSG.Pcb[60], 'o')"
   ]
  },
  {
   "cell_type": "code",
   "execution_count": 87,
   "metadata": {
    "collapsed": false
   },
   "outputs": [
    {
     "data": {
      "text/plain": [
       "(array(nan), array(5.4890306383639915))"
      ]
     },
     "execution_count": 87,
     "metadata": {},
     "output_type": "execute_result"
    }
   ],
   "source": [
    "f = interp1d(time / yr, param.Mtot[:-1])\n",
    "f2 = interp1d(time2 / yr, param.Mtot[:-1])\n",
    "f(3e6), f2(3e6)"
   ]
  },
  {
   "cell_type": "code",
   "execution_count": 109,
   "metadata": {
    "collapsed": false
   },
   "outputs": [
    {
     "name": "stdout",
     "output_type": "stream",
     "text": [
      "6.03049296187 6.01981511242 24.5354720508 42.7565559929 1357.25647894 -1.60523596865e+37 -1.48312372171e+37 -6.28656779742e+37\n"
     ]
    }
   ],
   "source": [
    "fSG = interp1d(timeSG / yr, paramSG.MB[:-1])\n",
    "fSG2 = interp1d(timeSG2 / yr, paramSG.MB[:-1])\n",
    "fSG(3e6), fSG2(3e6)\n",
    "MBd = float(fSG(3e6))\n",
    "\n",
    "fMrcbSG = interp1d(paramSG.MB, paramSG.Mcb)\n",
    "Mrcbd = float(fMrcbSG(MBd))\n",
    "\n",
    "frcbSG = interp1d(paramSG.MB, paramSG.rcb)\n",
    "rcbd = float(frcbSG(MBd))\n",
    "\n",
    "fRBSG = interp1d(paramSG.MB, paramSG.RB)\n",
    "RBd = float(fRBSG(MBd))\n",
    "\n",
    "fTcbSG = interp1d(paramSG.MB, paramSG.Tcb)\n",
    "Tcbd = float(fTcbSG(MBd))\n",
    "\n",
    "fEtotBSG = interp1d(paramSG.MB, paramSG.EtotB)\n",
    "EtotBd = float(fEtotBSG(MBd))\n",
    "\n",
    "fEtotcbSG = interp1d(paramSG.MB, paramSG.Etotcb)\n",
    "Etotcbd = float(fEtotcbSG(MBd))\n",
    "\n",
    "fEgBSG = interp1d(paramSG.MB, paramSG.EgB)\n",
    "EgBd = float(fEgBSG(MBd))\n",
    "\n",
    "\n",
    "print MBd, Mrcbd, rcbd, RBd, Tcbd, EtotBd, Etotcbd, EgBd"
   ]
  },
  {
   "cell_type": "code",
   "execution_count": 114,
   "metadata": {
    "collapsed": false
   },
   "outputs": [
    {
     "name": "stdout",
     "output_type": "stream",
     "text": [
      "[ 14.1521776]\n"
     ]
    }
   ],
   "source": [
    "(MBd*Me/model.Mco - 1)*100\n",
    "print RBd*Re/model.rco"
   ]
  },
  {
   "cell_type": "code",
   "execution_count": 111,
   "metadata": {
    "collapsed": false
   },
   "outputs": [
    {
     "name": "stdout",
     "output_type": "stream",
     "text": [
      "[ -1.59963604e+37]\n"
     ]
    },
    {
     "data": {
      "text/plain": [
       "-1.6052359686542542e+37"
      ]
     },
     "execution_count": 111,
     "metadata": {},
     "output_type": "execute_result"
    }
   ],
   "source": [
    "print - G * modelSG.Mco * (MBd * Me - modelSG.Mco) / (RBd * Re) #+ \\\n",
    "    #modelSG.Cv * model.Td * Mrcbd * Me, \n",
    "EtotBd"
   ]
  },
  {
   "cell_type": "code",
   "execution_count": 173,
   "metadata": {
    "collapsed": false
   },
   "outputs": [],
   "source": [
    "a = 1\n",
    "\n",
    "delad = 2./7\n",
    "gamma = gammafn(delad)\n",
    "R = Rfn(Y)\n",
    "Cv = Cvfn(Y, delad)\n",
    "Pd = Pdisk(a, mstar, FSigma, FT)\n",
    "Td = Tdisk(a, FT)\n",
    "nMco = 9\n",
    "\n",
    "Mcore = numpy.linspace(2*Me, 10*Me, nMco) \n",
    "rcore = (3 * Mcore / (4 * numpy.pi * rhoc))**(1./3)\n",
    "\n",
    "ratiov, ratiorcbv, RBoverrcv, rcboverrcv, fracmv, fracmrcbv = [], [], [], [], [], []\n",
    "\n",
    "for i in range(nMco):\n",
    "    prms = params(Mcore[i], rcore[i], a, delad, Y, gamma, R, Cv, Pd, Td,\\\n",
    "            kappa = kdust)\n",
    "    model, param, prof = atmSG.atmload('a1Mc' + str(int(Mcore[i]/Me)), prms)\n",
    "    dt = cool.cooling_global(param, prof, model, out='rcb')[1]\n",
    "        \n",
    "    time = []\n",
    "    \n",
    "    for i in range(len(dt)):\n",
    "        time = np.append(time, sum(dt[:i + 1]))\n",
    "        \n",
    "    f = interp1d(time / yr, param.MB[:-1])\n",
    "    MBd = float(f(3e6))\n",
    "    \n",
    "    fMrcb = interp1d(param.MB, param.Mcb)\n",
    "    Mrcbd = float(fMrcb(MBd))\n",
    "    \n",
    "    frcb = interp1d(param.MB, param.rcb)\n",
    "    rcbd = float(frcb(MBd))\n",
    "\n",
    "    fRB = interp1d(param.MB, param.RB)\n",
    "    RBd = float(fRB(MBd))\n",
    "    \n",
    "    fEtotB = interp1d(param.MB, param.EtotB)\n",
    "    EtotBd = float(fEtotB(MBd))\n",
    "    \n",
    "    Eevap = - G * model.Mco * (MBd * Me - model.Mco) / (RBd * Re)\n",
    "    Eevaprcb = - G * model.Mco * (Mrcbd * Me - model.Mco) / (rcbd * Re)\n",
    "    \n",
    "    ratio = Eevap / EtotBd\n",
    "    ratiorcb = Eevaprcb / EtotBd\n",
    "    RBoverrc = RBd*Re/model.rco\n",
    "    rcboverrc = rcbd*Re/model.rco\n",
    "    fracm = (MBd*Me/model.Mco - 1)*100\n",
    "    fracmrcb = (Mrcbd*Me/model.Mco - 1)*100\n",
    "    \n",
    "    ratiov = np.append(ratiov, ratio)\n",
    "    ratiorcbv = np.append(ratiorcbv, ratiorcb)\n",
    "    RBoverrcv = np.append(RBoverrcv, RBoverrc)\n",
    "    rcboverrcv = np.append(rcboverrcv, rcboverrc)\n",
    "    fracmv = np.append(fracmv, fracm)\n",
    "    fracmrcbv = np.append(fracmrcbv, fracmrcb)\n",
    "    \n",
    "    \n"
   ]
  },
  {
   "cell_type": "code",
   "execution_count": null,
   "metadata": {
    "collapsed": false
   },
   "outputs": [],
   "source": []
  },
  {
   "cell_type": "code",
   "execution_count": 178,
   "metadata": {
    "collapsed": false
   },
   "outputs": [
    {
     "data": {
      "text/plain": [
       "(array([ 0.15757563,  0.16335922,  0.16958776,  0.17468307,  0.17864979,\n",
       "         0.1817267 ,  0.18410586,  0.18595827,  0.18740048]),\n",
       " array([ 169.33266834,  170.05235074,  170.70693313,  171.30641417,\n",
       "         171.8614962 ,  172.37889556,  172.86656701,  173.3295319 ,\n",
       "         173.77353844]),\n",
       " array([  3.30119215,   4.6239192 ,   5.83675831,   6.95570317,\n",
       "          7.99873538,   8.97709681,   9.90462032,  10.79005029,  11.64359921]))"
      ]
     },
     "execution_count": 178,
     "metadata": {},
     "output_type": "execute_result"
    }
   ],
   "source": [
    "ratiov, RBoverrcv, fracmv"
   ]
  },
  {
   "cell_type": "code",
   "execution_count": 233,
   "metadata": {
    "collapsed": false
   },
   "outputs": [
    {
     "data": {
      "image/png": "[encoded data removed]",
      "text/plain": [
       "<matplotlib.figure.Figure at 0x12043a8d0>"
      ]
     },
     "metadata": {},
     "output_type": "display_data"
    }
   ],
   "source": [
    "fig = plt.figure(figsize = (10, 6))\n",
    "\n",
    "rnb = np.linspace(0, 256, nMco)\n",
    "#Z = [[165,175],[0.15,0.19]]\n",
    "y = np.linspace(0.15, 0.19, 100)\n",
    "x = np.linspace(168, 175, 100)\n",
    "X, Y = np.meshgrid(x, y)\n",
    "Z1 = plt.mlab.bivariate_normal(X, Y, 1.0, 1.0, 0.0, 0.0)\n",
    "Z2 = plt.mlab.bivariate_normal(X, Y, 1.5, 0.5, 1, 1)\n",
    "Z = 10 * (Z1 - Z2)\n",
    "levels = Mcore/Me\n",
    "CS = plt.contourf(X, Y, Z, levels, cmap=get_cmap(cm.rainbow))\n",
    "#plt.plot(0, 0)\n",
    "\n",
    "for i in range(nMco):\n",
    "    plt.plot(RBoverrcv[i], ratiov[i], 'o', c = cm.rainbow(int(rnb[i])), label = r' $M_{\\rm atm}/M_c=$ %.1f' % float(fracmv[i]))\n",
    "plt.legend(frameon = False, loc = 4)\n",
    "    \n",
    "cbar = fig.colorbar(CS)\n",
    "cbar.set_label(r'$M_{\\rm c}$ [$M_{\\oplus}$]')\n",
    "\n",
    "#plt.xlim(0.15, 0.19)\n",
    "#plt.ylim(165, 175)\n",
    "#plt.legend()"
   ]
  },
  {
   "cell_type": "code",
   "execution_count": null,
   "metadata": {
    "collapsed": true
   },
   "outputs": [],
   "source": []
  },
  {
   "cell_type": "code",
   "execution_count": null,
   "metadata": {
    "collapsed": true
   },
   "outputs": [],
   "source": []
  },
  {
   "cell_type": "code",
   "execution_count": 398,
   "metadata": {
    "collapsed": false
   },
   "outputs": [
    {
     "name": "stdout",
     "output_type": "stream",
     "text": [
      "11.8609049275 4687685.73493\n"
     ]
    }
   ],
   "source": [
    "f = interp1d(time / yr, param.Mtot[1:])\n",
    "f(3e6)\n",
    "print param.Mtot[42], time[42]/yr"
   ]
  },
  {
   "cell_type": "code",
   "execution_count": 402,
   "metadata": {
    "collapsed": false
   },
   "outputs": [
    {
     "name": "stdout",
     "output_type": "stream",
     "text": [
      "[ -1.37460759e+39] -5.48028950584e+39\n"
     ]
    }
   ],
   "source": [
    "print - G * model.Mco * (param.Mtot[42] * Me - model.Mco) / (param.rcb[42] * Re) + \\\n",
    "    model.Cv * param.Tcb[42] * param.Mtot[42], param.Etotout[42]"
   ]
  },
  {
   "cell_type": "code",
   "execution_count": 389,
   "metadata": {
    "collapsed": false
   },
   "outputs": [
    {
     "data": {
      "text/plain": [
       "[<matplotlib.lines.Line2D at 0x12d778610>]"
      ]
     },
     "execution_count": 389,
     "metadata": {},
     "output_type": "execute_result"
    },
    {
     "data": {
      "image/png": "[encoded data removed]",
      "text/plain": [
       "<matplotlib.figure.Figure at 0x12b649990>"
      ]
     },
     "metadata": {},
     "output_type": "display_data"
    }
   ],
   "source": [
    "plt.loglog(prof2.r[39], - (- G * prof2.m[39] / prof2.r[39] + model2.Cv * prof2.t[39]) * \\\n",
    "           prof2.rho[39] * prof2.r[39]**3)"
   ]
  },
  {
   "cell_type": "code",
   "execution_count": 64,
   "metadata": {
    "collapsed": false
   },
   "outputs": [
    {
     "data": {
      "text/plain": [
       "100"
      ]
     },
     "execution_count": 64,
     "metadata": {},
     "output_type": "execute_result"
    }
   ],
   "source": [
    "len(param.Mtot)"
   ]
  },
  {
   "cell_type": "code",
   "execution_count": 24,
   "metadata": {
    "collapsed": false
   },
   "outputs": [
    {
     "data": {
      "text/plain": [
       "(array([ 11.        ,  11.18585438,  11.37484892,  11.56703669,\n",
       "         11.76247163,  11.96120862,  12.16330343,  12.36881281,\n",
       "         12.57779445,  12.79030701,  13.00641015,  13.22616453,\n",
       "         13.44963186,  13.67687485,  13.90795731,  14.14294411,\n",
       "         14.3819012 ,  14.62489568,  14.87199576,  15.12327081,\n",
       "         15.37879136,  15.63862915,  15.90285712,  16.17154944,\n",
       "         16.44478156,  16.72263016,  17.00517325,  17.29249015,\n",
       "         17.58466151,  17.88176935,  18.18389709,  18.49112953,\n",
       "         18.80355293,  19.12125498,  19.44432488,  19.77285333,\n",
       "         20.10693254,  20.4466563 ,  20.79211999,  21.14342058,\n",
       "         21.50065669,  21.86392862,  22.23333833,  22.60898953,\n",
       "         22.99098768,  23.37944001,  23.77445558,  24.17614528,\n",
       "         24.58462186,  25.        ]),\n",
       " array([ 10.81620172,  10.99895467,  11.18480262,  11.37379979,\n",
       "         11.5659973 ,  11.7614526 ,  11.96022002,  12.16235464,\n",
       "         12.36791865,  12.57696619,  12.7895587 ,  13.00575832,\n",
       "         13.22562319,  13.44922101,  13.67661247,  13.90786203,\n",
       "         14.14304105,  14.38221077,  14.62544421,  14.87281047,\n",
       "         15.12437664,  15.38022532,  15.64041928,  15.90503685,\n",
       "         16.17415942,  16.4478566 ,  16.72621752,  17.00931476,\n",
       "         17.29723164,  17.59005783,  17.88786826,  18.19076057,\n",
       "         18.49881582,  18.81212249,  19.1307826 ,  19.45487494,\n",
       "         19.78450724,  20.11976929,  20.46075575,  20.80758196,\n",
       "         21.16033086,  21.5191222 ,  21.88405222,  22.2552296 ,\n",
       "         22.63277745,  23.01678536,  23.40738765,  23.80469033,\n",
       "         24.20880632,  24.61987865]),\n",
       " array([  3.81663656e+24,   3.90696722e+24,   4.00149158e+24,\n",
       "          4.10010470e+24,   4.20290744e+24,   4.31031220e+24,\n",
       "          4.42218629e+24,   4.53877108e+24,   4.66022525e+24,\n",
       "          4.78671528e+24,   4.91835025e+24,   5.05536343e+24,\n",
       "          5.19815494e+24,   5.34659383e+24,   5.50098923e+24,\n",
       "          5.66160771e+24,   5.82868177e+24,   6.00272594e+24,\n",
       "          6.18343692e+24,   6.37136222e+24,   6.56684485e+24,\n",
       "          6.77005430e+24,   6.98137226e+24,   7.20109568e+24,\n",
       "          7.42957496e+24,   7.66716603e+24,   7.91418759e+24,\n",
       "          8.17117832e+24,   8.43838012e+24,   8.71627391e+24,\n",
       "          9.00475593e+24,   9.30597509e+24,   9.61867279e+24,\n",
       "          9.94396173e+24,   1.02823708e+25,   1.06342760e+25,\n",
       "          1.10006002e+25,   1.13817353e+25,   1.17784569e+25,\n",
       "          1.21912821e+25,   1.26210895e+25,   1.30683393e+25,\n",
       "          1.35339591e+25,   1.40180961e+25,   1.45227577e+25,\n",
       "          1.50482483e+25,   1.55954655e+25,   1.61656913e+25,\n",
       "          1.67591866e+25,   1.73776557e+25]))"
      ]
     },
     "execution_count": 24,
     "metadata": {},
     "output_type": "execute_result"
    }
   ],
   "source": [
    "paramSG.Mtot, paramSG.MB, paramSG.L"
   ]
  },
  {
   "cell_type": "code",
   "execution_count": 104,
   "metadata": {
    "collapsed": false
   },
   "outputs": [
    {
     "data": {
      "text/plain": [
       "array([ 1.        ,  0.84175503,  0.7910481 ,  0.75184106,  0.72269517,\n",
       "        0.69861394,  0.67533513,  0.66024847,  0.64186321,  0.6275243 ,\n",
       "        0.61350571,  0.5998003 ,  0.58972254,  0.57654842,  0.56686134,\n",
       "        0.55733701,  0.54797271,  0.54181742,  0.53271388,  0.52376329,\n",
       "        0.51787994,  0.5091786 ,  0.50345907,  0.49500002,  0.48943976,\n",
       "        0.48394196,  0.47850592,  0.47313094,  0.46518146,  0.45995615,\n",
       "        0.45478953,  0.44968095,  0.44462975,  0.4396353 ,  0.43715915,\n",
       "        0.43224861,  0.42739323,  0.42259238,  0.41784547,  0.41315188,\n",
       "        0.41082489,  0.40621016,  0.40164726,  0.39938507,  0.39489884,\n",
       "        0.390463  ,  0.3882638 ,  0.3839025 ,  0.38174025,  0.37745222,\n",
       "        0.37321236,  0.37111032,  0.3669417 ,  0.36487498,  0.36077639,\n",
       "        0.3587444 ,  0.35471468,  0.35271682,  0.35073022,  0.34679053,\n",
       "        0.3448373 ,  0.3409638 ,  0.33904339,  0.33713381,  0.33334683,\n",
       "        0.33146933,  0.3296024 ,  0.32590003,  0.32406447,  0.32223925,\n",
       "        0.31861958,  0.31682503,  0.31504058,  0.31150178,  0.30974731,\n",
       "        0.30800273,  0.30626797,  0.30282771,  0.30112209,  0.29942609,\n",
       "        0.29773964,  0.29606268,  0.29273706,  0.29108828,  0.28944879,\n",
       "        0.28781853,  0.28619745,  0.28458551,  0.2813888 ,  0.27980394,\n",
       "        0.27822801,  0.27666095,  0.27510272,  0.27355326,  0.27201253,\n",
       "        0.27048048,  0.26895706,  0.2659359 ,  0.26443808,  0.26294869])"
      ]
     },
     "execution_count": 104,
     "metadata": {},
     "output_type": "execute_result"
    }
   ],
   "source": [
    "param.rcb/param.rout"
   ]
  },
  {
   "cell_type": "code",
   "execution_count": 6,
   "metadata": {
    "collapsed": false
   },
   "outputs": [
    {
     "data": {
      "text/plain": [
       "array([  1.81872211,   6.33708082,  10.65587465,  14.37848682,\n",
       "        17.45158886,  19.90565629,  21.79822431,  23.19422257,\n",
       "        24.15807494,  24.75040487,  25.02669364,  25.03688906,\n",
       "        24.82545246,  24.43164654,  23.88990856,  23.23026614,\n",
       "        22.47876715,  21.65787422,  20.78689036,  19.88218048,\n",
       "        18.95774512,  18.02527525,  17.0945288 ,  16.17361801,\n",
       "        15.26906963,  14.38621919,  13.52924001,  12.70135113,\n",
       "        11.90494338,  11.14170974,  10.41273449,   9.71861252,\n",
       "         9.05951028,   8.43523851,   7.84532976,   7.28907978,\n",
       "         6.76560129,   6.27385693,   5.81270924,   5.38093881,\n",
       "         4.97726449,   4.60037801,   4.24895926,   3.92168277,\n",
       "         3.61723882,   3.33433742,   3.07172557,   2.82817442,\n",
       "         2.60251226,   2.39360496,   2.20035898,   2.02174761,\n",
       "         1.85677979,   1.70452013,   1.56408478,   1.43463962,\n",
       "         1.31538937,   1.20560124,   1.10457897,   1.01167137,\n",
       "         0.92626956,   0.84780471,   0.77574795,   0.70960415,\n",
       "         0.64891399,   0.5932506 ,   0.54221745,   0.49544698,\n",
       "         0.4525988 ,   0.41335754,   0.37743091,   0.34455047,\n",
       "         0.31446574,   0.28694881,   0.26178629,   0.23878388,\n",
       "         0.21776145,   0.19855362,   0.18100788,   0.16498438,\n",
       "         0.15035435,   0.13699953,   0.12481141,   0.1136904 ,\n",
       "         0.10354504,   0.09429156,   0.08585313,   0.07815938,\n",
       "         0.07114576,   0.06475331,   0.05892792,   0.05362016,\n",
       "         0.04878479,   0.0443804 ,   0.04036918,   0.03671655,\n",
       "         0.0333909 ,   0.03036338,   0.0276076 ,   0.0250995 ])"
      ]
     },
     "execution_count": 6,
     "metadata": {},
     "output_type": "execute_result"
    }
   ],
   "source": [
    "param.L/paramSG.L"
   ]
  },
  {
   "cell_type": "code",
   "execution_count": 20,
   "metadata": {
    "collapsed": false
   },
   "outputs": [
    {
     "name": "stdout",
     "output_type": "stream",
     "text": [
      "[  9.40333267e+06   4.45619049e+07   1.08509343e+08   2.02534952e+08\n",
      "   3.26802525e+08   4.80742251e+08   6.63294567e+08   8.73069699e+08\n",
      "   1.10844661e+09   1.36765576e+09   1.64882926e+09   1.95005196e+09\n",
      "   2.26938107e+09   2.60487112e+09   2.95462368e+09   3.31674633e+09\n",
      "   3.68940054e+09   4.07080781e+09   4.45924834e+09   4.85306726e+09\n",
      "   5.25067455e+09   5.65054664e+09   6.05123675e+09   6.45140682e+09\n",
      "   6.84973525e+09   7.24498140e+09   7.63602478e+09   8.02174107e+09\n",
      "   8.40114719e+09   8.77326047e+09   9.13722055e+09   9.49216614e+09\n",
      "   9.83738563e+09   1.01721118e+10   1.04957643e+10   1.08077007e+10\n",
      "   1.11073730e+10   1.13943391e+10   1.16680894e+10   1.19282732e+10\n",
      "   1.21745342e+10   1.24065032e+10   1.26239517e+10   1.28266446e+10\n",
      "   1.30143282e+10   1.31868622e+10   1.33441510e+10   1.34860300e+10\n",
      "   1.36123955e+10   1.37233095e+10   1.38186970e+10   1.38985044e+10\n",
      "   1.39627880e+10   1.40116193e+10   1.40450151e+10   1.40630112e+10\n",
      "   1.40657850e+10   1.40534618e+10   1.40261136e+10   1.39838501e+10\n",
      "   1.39269432e+10   1.38554975e+10   1.37696369e+10   1.36695439e+10\n",
      "   1.35555090e+10   1.34277225e+10   1.32863461e+10   1.31315708e+10\n",
      "   1.29636988e+10   1.27829550e+10   1.25895009e+10   1.23835618e+10\n",
      "   1.21655155e+10   1.19355724e+10   1.16939007e+10   1.14406971e+10\n",
      "   1.11763845e+10   1.09011736e+10   1.06152544e+10   1.03188693e+10\n",
      "   1.00123756e+10   9.69597098e+09   9.36987074e+09   9.03436403e+09\n",
      "   8.68977639e+09   8.33629115e+09   7.97408339e+09   7.60351324e+09\n",
      "   7.22487105e+09   6.83829151e+09   6.44396720e+09   6.04229970e+09\n",
      "   5.63349837e+09   5.21772381e+09   4.79519894e+09   4.36625518e+09\n",
      "   3.93105941e+09   3.48979695e+09   3.04277222e+09] [  9.56538621e+04   2.41770642e+05   4.14156121e+05   6.15128530e+05\n",
      "   8.48544162e+05   1.11909134e+06   1.43072346e+06   1.79127832e+06\n",
      "   2.20600693e+06   2.68369509e+06   3.23337754e+06   3.86436936e+06\n",
      "   4.59148025e+06   5.42528938e+06   6.38372400e+06   7.48516245e+06\n",
      "   8.74840094e+06   1.02036941e+07   1.18755868e+07   1.37925059e+07\n",
      "   1.60008717e+07   1.85327865e+07   2.14500569e+07   2.47948675e+07\n",
      "   2.86411865e+07   3.30645325e+07   3.81518323e+07   4.40165809e+07\n",
      "   5.07420251e+07   5.84787764e+07   6.73793822e+07   7.76195956e+07\n",
      "   8.94017292e+07   1.02923593e+08   1.18534046e+08   1.36496879e+08\n",
      "   1.57166922e+08   1.80952096e+08   2.08321362e+08   2.39717681e+08\n",
      "   2.75977365e+08   3.17694333e+08   3.65524835e+08   4.20764498e+08\n",
      "   4.84296685e+08   5.57081603e+08   6.41131333e+08   7.37354393e+08\n",
      "   8.48447233e+08   9.76073480e+08   1.12197555e+09   1.29034947e+09\n",
      "   1.48260054e+09   1.70436293e+09   1.95719105e+09   2.24865809e+09\n",
      "   2.58034494e+09   2.95999933e+09   3.39711657e+09   3.89281143e+09\n",
      "   4.46289261e+09   5.10737874e+09   5.84125410e+09   6.68333286e+09\n",
      "   7.62963799e+09   8.70202013e+09   9.92844764e+09   1.12950712e+10\n",
      "   1.28330622e+10   1.45834699e+10   1.65099574e+10   1.86556683e+10\n",
      "   2.10794862e+10   2.36966021e+10   2.65635602e+10   2.96800520e+10\n",
      "   3.31366144e+10   3.66937817e+10   4.04205079e+10   4.42475458e+10\n",
      "   4.80712176e+10   5.20213015e+10   5.52885431e+10   5.78948904e+10\n",
      "   5.94469087e+10   5.94177589e+10   5.71084001e+10   5.25646260e+10\n",
      "   4.25009978e+10   2.64306857e+10   2.31624786e+09  -3.24702343e+10\n",
      "  -8.13071705e+10  -1.48524560e+11  -2.39658306e+11  -3.61769857e+11\n",
      "  -5.17476130e+11  -7.32021474e+11  -1.01270974e+12]\n"
     ]
    }
   ],
   "source": [
    "print timeSG/yr, time/yr"
   ]
  },
  {
   "cell_type": "code",
   "execution_count": null,
   "metadata": {
    "collapsed": true
   },
   "outputs": [],
   "source": []
  }
 ],
 "metadata": {
  "kernelspec": {
   "display_name": "Python 2",
   "language": "python",
   "name": "python2"
  },
  "language_info": {
   "codemirror_mode": {
    "name": "ipython",
    "version": 2
   },
   "file_extension": ".py",
   "mimetype": "text/x-python",
   "name": "python",
   "nbconvert_exporter": "python",
   "pygments_lexer": "ipython2",
   "version": "2.7.11"
  }
 },
 "nbformat": 4,
 "nbformat_minor": 0
}
