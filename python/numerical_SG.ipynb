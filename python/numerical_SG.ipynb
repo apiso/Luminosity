{
 "cells": [
  {
   "cell_type": "code",
   "execution_count": 1,
   "metadata": {
    "collapsed": false
   },
   "outputs": [
    {
     "name": "stdout",
     "output_type": "stream",
     "text": [
      "Populating the interactive namespace from numpy and matplotlib\n"
     ]
    }
   ],
   "source": [
    "%pylab inline"
   ]
  },
  {
   "cell_type": "code",
   "execution_count": 61,
   "metadata": {
    "collapsed": false
   },
   "outputs": [
    {
     "data": {
      "text/plain": [
       "<module 'evaporation_2' from 'evaporation_2.py'>"
      ]
     },
     "execution_count": 61,
     "metadata": {},
     "output_type": "execute_result"
    }
   ],
   "source": [
    "import numpy as np\n",
    "import luminosity_analytic as l\n",
    "import luminosity_numerical_no_SG as ln\n",
    "import luminosity_numerical_SG as lsg\n",
    "from utils.constants import G, kb, mp, Rb, Me, Re, Msun, RH, RHe, sigma, \\\n",
    "    cmperau, RHill, gammafn, mufn, Rfn, Cvfn, kdust, Tdisk, Pdisk, params, yr, kconst, kdust\n",
    "from utils.parameters import FT, FSigma, mstar, Y, delad, rhoc, Mc, rc, \\\n",
    "    gamma, Y, a\n",
    "import profiles_no_SG as atmnoSG\n",
    "import profiles_SG as atmSG\n",
    "import evaporation_2 as evap2\n",
    "\n",
    "import cooling as cool\n",
    "from scipy.interpolate import interp1d\n",
    "    \n",
    "reload(l)\n",
    "reload(ln)\n",
    "#reload(atm)\n",
    "reload(cool)\n",
    "reload(evap2)"
   ]
  },
  {
   "cell_type": "code",
   "execution_count": 486,
   "metadata": {
    "collapsed": true
   },
   "outputs": [],
   "source": [
    "delad = 2./7\n",
    "a = 0.1\n",
    "Mc = 10 * Me\n",
    "rc = (3*Mc/(4*np.pi*rhoc))**(1./3)            \n",
    "    \n",
    "A = 5 * np.pi / 16\n",
    "mu = 2.35 * mp\n",
    "gammac = 4./3\n",
    "muc = 60 * mp\n",
    "\n",
    "            \n",
    "prms = params(Mc, rc, a, delad, Y, gamma = gammafn(delad), R = Rfn(Y), \\\n",
    "    Cv = Cvfn(Y, delad), Pd = Pdisk(a, mstar, FSigma, FT), \\\n",
    "    Td = 1e3, kappa = kdust)"
   ]
  },
  {
   "cell_type": "code",
   "execution_count": 487,
   "metadata": {
    "collapsed": true
   },
   "outputs": [],
   "source": [
    "model, param, prof = atmnoSG.atmload('a01Mc10', prms)\n",
    "modelSG, paramSG, profSG = atmSG.atmload('a01Mc10', prms)"
   ]
  },
  {
   "cell_type": "code",
   "execution_count": 488,
   "metadata": {
    "collapsed": false
   },
   "outputs": [
    {
     "data": {
      "text/plain": [
       "<matplotlib.legend.Legend at 0x13995f9d0>"
      ]
     },
     "execution_count": 488,
     "metadata": {},
     "output_type": "execute_result"
    },
    {
     "data": {
      "image/png": "[encoded data removed]",
      "text/plain": [
       "<matplotlib.figure.Figure at 0x139848990>"
      ]
     },
     "metadata": {},
     "output_type": "display_data"
    }
   ],
   "source": [
    "plt.semilogy((param.Mtot - model.Mco / Me) / (model.Mco/Me), param.L, label = 'no self gravity')\n",
    "plt.semilogy((paramSG.MB - modelSG.Mco / Me) / (modelSG.Mco/Me), paramSG.L, label = 'self gravity')\n",
    "plt.xlim(xmin = 0, xmax = 0.5)\n",
    "plt.xlabel(r'$M_{\\rm atm}/M_{\\rm core}$')\n",
    "plt.ylabel(r'L [erg s$^{-1}$]')\n",
    "plt.legend(frameon = False)\n",
    "#plt.ylim(ymin=5e20, ymax = 3e24)\n",
    "#plt.title(r'a = 0.1 AU, $M_{\\rm core}=10 M_{\\oplus}$')\n",
    "\n",
    "#plt.savefig('../figs/L_vs_M_SG_a01Mc10.pdf')"
   ]
  },
  {
   "cell_type": "code",
   "execution_count": 427,
   "metadata": {
    "collapsed": false
   },
   "outputs": [
    {
     "data": {
      "text/plain": [
       "14.397034484227733"
      ]
     },
     "execution_count": 427,
     "metadata": {},
     "output_type": "execute_result"
    }
   ],
   "source": [
    "paramSG.MB[154]"
   ]
  },
  {
   "cell_type": "code",
   "execution_count": 428,
   "metadata": {
    "collapsed": false
   },
   "outputs": [],
   "source": [
    "ind=154"
   ]
  },
  {
   "cell_type": "code",
   "execution_count": 429,
   "metadata": {
    "collapsed": false
   },
   "outputs": [
    {
     "data": {
      "text/plain": [
       "[<matplotlib.lines.Line2D at 0x1360001d0>]"
      ]
     },
     "execution_count": 429,
     "metadata": {},
     "output_type": "execute_result"
    },
    {
     "data": {
      "image/png": "[encoded data removed]",
      "text/plain": [
       "<matplotlib.figure.Figure at 0x137cb6b50>"
      ]
     },
     "metadata": {},
     "output_type": "display_data"
    }
   ],
   "source": [
    "plt.loglog(profSG[ind].r, profSG.rho[ind] * profSG.r[ind]**3)\n",
    "plt.loglog(paramSG.rcb[ind]*Re, paramSG.Pcb[ind] / (paramSG.Tcb[ind] * modelSG.R) * (paramSG.rcb[ind]*Re)**3, 'o')\n",
    "plt.loglog(paramSG.RB[ind]*Re, paramSG.PB[ind] / (paramSG.TB[ind] * modelSG.R) * (paramSG.RB[ind]*Re)**3, 'o')"
   ]
  },
  {
   "cell_type": "code",
   "execution_count": 332,
   "metadata": {
    "collapsed": true
   },
   "outputs": [],
   "source": [
    "delad = 2./7\n",
    "a = 0.1\n",
    "Mc = 4 * Me\n",
    "rc = (3*Mc/(4*np.pi*rhoc))**(1./3)            \n",
    "    \n",
    "A = 5 * np.pi / 16\n",
    "mu = 2.35 * mp\n",
    "gammac = 4./3\n",
    "muc = 60 * mp\n",
    "\n",
    "            \n",
    "prms = params(Mc, rc, a, delad, Y, gamma = gammafn(delad), R = Rfn(Y), \\\n",
    "    Cv = Cvfn(Y, delad), Pd = Pdisk(a, mstar, FSigma, FT), \\\n",
    "    Td = 1e3, kappa = kdust)"
   ]
  },
  {
   "cell_type": "code",
   "execution_count": 337,
   "metadata": {
    "collapsed": false
   },
   "outputs": [],
   "source": [
    "#model, param, prof = atmnoSG.atmload('a10Mc5', prms)\n",
    "modelSG, paramSG, profSG = atmSG.atmload('a01Mc4', prms)"
   ]
  },
  {
   "cell_type": "code",
   "execution_count": 326,
   "metadata": {
    "collapsed": false
   },
   "outputs": [
    {
     "data": {
      "text/plain": [
       "<matplotlib.text.Text at 0x12d566390>"
      ]
     },
     "execution_count": 326,
     "metadata": {},
     "output_type": "execute_result"
    },
    {
     "data": {
      "image/png": "[encoded data removed]",
      "text/plain": [
       "<matplotlib.figure.Figure at 0x12d5ac150>"
      ]
     },
     "metadata": {},
     "output_type": "display_data"
    }
   ],
   "source": [
    "plt.semilogy((param.Mtot - model.Mco / Me) / (model.Mco/Me), param.L, label = 'no self gravity')\n",
    "plt.semilogy((paramSG.MB - modelSG.Mco / Me) / (model.Mco/Me), paramSG.L, label = 'self gravity')\n",
    "plt.xlim(xmin = 0, xmax = 0.5)\n",
    "plt.xlabel(r'$M_{\\rm atm}/M_{\\rm core}$')\n",
    "plt.ylabel(r'L [erg s$^{-1}$]')\n",
    "plt.legend(frameon = False)\n",
    "#plt.ylim(ymin=5e23, ymax = 1e27)\n",
    "plt.title(r'a = 10 AU, $M_{\\rm core}=5 M_{\\oplus}$')\n",
    "\n",
    "#plt.savefig('../figs/L_vs_M_SG_a60Mc5.pdf')"
   ]
  },
  {
   "cell_type": "code",
   "execution_count": 489,
   "metadata": {
    "collapsed": false
   },
   "outputs": [],
   "source": [
    "dt = cool.cooling_global(param, prof, model, out='rcb')[1]\n",
    "dt2 = cool.cooling_global(param, prof, model, out='rout')[1]\n",
    "dtSG = cool.cooling_global(paramSG, profSG, modelSG, out='rcb')[1]\n",
    "dtSG2 = cool.cooling_global(paramSG, profSG, modelSG, out='RB')[1]\n",
    "\n",
    "time, time2 = [], []\n",
    "for i in range(len(dt)):\n",
    "    time = np.append(time, sum(dt[:i + 1]))\n",
    "for i in range(len(dt2)):\n",
    "    time2 = np.append(time2, sum(dt2[:i + 1]))\n",
    "\n",
    "timeSG, timeSG2 = [], []\n",
    "for i in range(len(dtSG)):\n",
    "    timeSG = np.append(timeSG, sum(dtSG[:i + 1]))\n",
    "for i in range(len(dtSG2)):\n",
    "    timeSG2 = np.append(timeSG2, sum(dtSG2[:i + 1]))"
   ]
  },
  {
   "cell_type": "code",
   "execution_count": 492,
   "metadata": {
    "collapsed": false
   },
   "outputs": [
    {
     "data": {
      "text/plain": [
       "<matplotlib.text.Text at 0x13b894850>"
      ]
     },
     "execution_count": 492,
     "metadata": {},
     "output_type": "execute_result"
    },
    {
     "data": {
      "image/png": "[encoded data removed]",
      "text/plain": [
       "<matplotlib.figure.Figure at 0x139c79e50>"
      ]
     },
     "metadata": {},
     "output_type": "display_data"
    }
   ],
   "source": [
    "plt.loglog(time / yr, param.L[:-1], label = 'no self gravity')\n",
    "plt.loglog(timeSG / yr, paramSG.L[:-1], label = 'self gravity')\n",
    "#plt.loglog(timeSG2 / yr, paramSG.L[:-1], label = 'self gravity')\n",
    "#plt.xlim(xmin = 1e3, xmax = 1e8)\n",
    "plt.legend(frameon = False)\n",
    "plt.xlabel('t [yr]')\n",
    "plt.ylabel(r'L [erg s$^{-1}$]')\n",
    "\n",
    "#plt.savefig('../figs/comp_L_vs_t.pdf')"
   ]
  },
  {
   "cell_type": "code",
   "execution_count": 340,
   "metadata": {
    "collapsed": false
   },
   "outputs": [
    {
     "data": {
      "text/plain": [
       "2167934.464328412"
      ]
     },
     "execution_count": 340,
     "metadata": {},
     "output_type": "execute_result"
    }
   ],
   "source": [
    "timeSG[0]/yr"
   ]
  },
  {
   "cell_type": "code",
   "execution_count": 83,
   "metadata": {
    "collapsed": false
   },
   "outputs": [
    {
     "data": {
      "text/plain": [
       "<matplotlib.text.Text at 0x11bb0b950>"
      ]
     },
     "execution_count": 83,
     "metadata": {},
     "output_type": "execute_result"
    },
    {
     "data": {
      "image/png": "[encoded data removed]",
      "text/plain": [
       "<matplotlib.figure.Figure at 0x117089a10>"
      ]
     },
     "metadata": {},
     "output_type": "display_data"
    }
   ],
   "source": [
    "plt.semilogy((param.Mtot[:-1] - model.Mco / Me) / (model.Mco/Me), time/yr, label = 'no self gravity')\n",
    "plt.semilogy((paramSG.MB[:-1] - modelSG.Mco / Me) / (model.Mco/Me), timeSG/yr, label = 'self gravity')\n",
    "plt.xlim(xmin = 0, xmax = 0.5)\n",
    "plt.xlabel(r'$M_{\\rm atm}/M_{\\rm core}$')\n",
    "plt.ylabel(r't [yr]')\n",
    "plt.legend(frameon = False, loc = 4)\n",
    "#plt.ylim(ymin=1e2, ymax = 1e8)\n",
    "plt.title(r'a = 10 AU, $M_{\\rm core}=5 M_{\\oplus}$')\n",
    "\n",
    "#plt.savefig('../figs/L_vs_M_SG_a01Mc10.pdf')"
   ]
  },
  {
   "cell_type": "code",
   "execution_count": 25,
   "metadata": {
    "collapsed": false
   },
   "outputs": [],
   "source": [
    "prms2 = params(Mc, rc, a, delad, Y, gamma = gammafn(delad), R = Rfn(Y), \\\n",
    "    Cv = Cvfn(Y, delad), Pd = Pdisk(a, mstar, FSigma, FT), \\\n",
    "    Td = 1e3, kappa = kdust)\n",
    "\n",
    "model2, param2, prof2 = atm.atmload('a01Mc10', prms2)"
   ]
  },
  {
   "cell_type": "code",
   "execution_count": 403,
   "metadata": {
    "collapsed": false
   },
   "outputs": [],
   "source": [
    "cneg1 = cool.cooling_local(paramSG, profSG, modelSG, out='rcb', onlyrad = 1)"
   ]
  },
  {
   "cell_type": "code",
   "execution_count": 405,
   "metadata": {
    "collapsed": false
   },
   "outputs": [],
   "source": [
    "la = cneg1 / (paramSG.Etotcb[1:]-paramSG.Etotcb[:-1])"
   ]
  },
  {
   "cell_type": "code",
   "execution_count": 108,
   "metadata": {
    "collapsed": false
   },
   "outputs": [
    {
     "data": {
      "text/plain": [
       "[<matplotlib.lines.Line2D at 0x11d4b2110>]"
      ]
     },
     "execution_count": 108,
     "metadata": {},
     "output_type": "execute_result"
    },
    {
     "data": {
      "image/png": "[encoded data removed]",
      "text/plain": [
       "<matplotlib.figure.Figure at 0x11ad72690>"
      ]
     },
     "metadata": {},
     "output_type": "display_data"
    }
   ],
   "source": [
    "#plt.loglog(prof.t[20], prof.P[20])\n",
    "#plt.plot(param.Tcb[20], param.Pcb[20], 'o')\n",
    "\n",
    "plt.loglog(profSG.t[60], profSG.P[60])\n",
    "plt.plot(paramSG.Tcb[60], paramSG.Pcb[60], 'o')"
   ]
  },
  {
   "cell_type": "code",
   "execution_count": 86,
   "metadata": {
    "collapsed": false
   },
   "outputs": [
    {
     "data": {
      "text/plain": [
       "[<matplotlib.lines.Line2D at 0x117443c50>]"
      ]
     },
     "execution_count": 86,
     "metadata": {},
     "output_type": "execute_result"
    },
    {
     "data": {
      "image/png": "[encoded data removed]",
      "text/plain": [
       "<matplotlib.figure.Figure at 0x117354050>"
      ]
     },
     "metadata": {},
     "output_type": "display_data"
    }
   ],
   "source": [
    "plt.loglog(prof.r[20], prof.P[20])\n",
    "plt.plot(param.rcb[20]*Re, param.Pcb[20], 'o')\n",
    "\n",
    "plt.loglog(profSG.r[60], profSG.P[60])\n",
    "plt.plot(paramSG.rcb[60]*Re, paramSG.Pcb[60], 'o')"
   ]
  },
  {
   "cell_type": "code",
   "execution_count": 493,
   "metadata": {
    "collapsed": false
   },
   "outputs": [
    {
     "data": {
      "text/plain": [
       "(array(10.09022829491766), array(10.087546225898556))"
      ]
     },
     "execution_count": 493,
     "metadata": {},
     "output_type": "execute_result"
    }
   ],
   "source": [
    "f = interp1d(time / yr, param.Mtot[:-1])\n",
    "f2 = interp1d(time2 / yr, param.Mtot[:-1])\n",
    "f(3e6), f2(3e6)"
   ]
  },
  {
   "cell_type": "code",
   "execution_count": 109,
   "metadata": {
    "collapsed": false
   },
   "outputs": [
    {
     "name": "stdout",
     "output_type": "stream",
     "text": [
      "6.03049296187 6.01981511242 24.5354720508 42.7565559929 1357.25647894 -1.60523596865e+37 -1.48312372171e+37 -6.28656779742e+37\n"
     ]
    }
   ],
   "source": [
    "fSG = interp1d(timeSG / yr, paramSG.MB[:-1])\n",
    "fSG2 = interp1d(timeSG2 / yr, paramSG.MB[:-1])\n",
    "fSG(3e6), fSG2(3e6)\n",
    "MBd = float(fSG(3e6))\n",
    "\n",
    "fMrcbSG = interp1d(paramSG.MB, paramSG.Mcb)\n",
    "Mrcbd = float(fMrcbSG(MBd))\n",
    "\n",
    "frcbSG = interp1d(paramSG.MB, paramSG.rcb)\n",
    "rcbd = float(frcbSG(MBd))\n",
    "\n",
    "fRBSG = interp1d(paramSG.MB, paramSG.RB)\n",
    "RBd = float(fRBSG(MBd))\n",
    "\n",
    "fTcbSG = interp1d(paramSG.MB, paramSG.Tcb)\n",
    "Tcbd = float(fTcbSG(MBd))\n",
    "\n",
    "fEtotBSG = interp1d(paramSG.MB, paramSG.EtotB)\n",
    "EtotBd = float(fEtotBSG(MBd))\n",
    "\n",
    "fEtotcbSG = interp1d(paramSG.MB, paramSG.Etotcb)\n",
    "Etotcbd = float(fEtotcbSG(MBd))\n",
    "\n",
    "fEgBSG = interp1d(paramSG.MB, paramSG.EgB)\n",
    "EgBd = float(fEgBSG(MBd))\n",
    "\n",
    "\n",
    "print MBd, Mrcbd, rcbd, RBd, Tcbd, EtotBd, Etotcbd, EgBd"
   ]
  },
  {
   "cell_type": "code",
   "execution_count": 114,
   "metadata": {
    "collapsed": false
   },
   "outputs": [
    {
     "name": "stdout",
     "output_type": "stream",
     "text": [
      "[ 14.1521776]\n"
     ]
    }
   ],
   "source": [
    "(MBd*Me/model.Mco - 1)*100\n",
    "print RBd*Re/model.rco"
   ]
  },
  {
   "cell_type": "code",
   "execution_count": 111,
   "metadata": {
    "collapsed": false
   },
   "outputs": [
    {
     "name": "stdout",
     "output_type": "stream",
     "text": [
      "[ -1.59963604e+37]\n"
     ]
    },
    {
     "data": {
      "text/plain": [
       "-1.6052359686542542e+37"
      ]
     },
     "execution_count": 111,
     "metadata": {},
     "output_type": "execute_result"
    }
   ],
   "source": [
    "print - G * modelSG.Mco * (MBd * Me - modelSG.Mco) / (RBd * Re) #+ \\\n",
    "    #modelSG.Cv * model.Td * Mrcbd * Me, \n",
    "EtotBd"
   ]
  },
  {
   "cell_type": "code",
   "execution_count": 77,
   "metadata": {
    "collapsed": false
   },
   "outputs": [],
   "source": [
    "a = 1\n",
    "\n",
    "delad = 2./7\n",
    "gamma = gammafn(delad)\n",
    "R = Rfn(Y)\n",
    "Cv = Cvfn(Y, delad)\n",
    "Pd = Pdisk(a, mstar, FSigma, FT)\n",
    "Td = Tdisk(a, FT)\n",
    "nMco = 9\n",
    "\n",
    "Mcore = numpy.linspace(2*Me, 10*Me, nMco) \n",
    "rcore = (3 * Mcore / (4 * numpy.pi * rhoc))**(1./3)\n",
    "\n",
    "ratiov, ratiorcbv, RBoverrcv, rcboverrcv, fracmv, fracmrcbv, MBv, RBv = [], [], [], [], [], [], [], []\n",
    "\n",
    "for i in range(nMco):\n",
    "    prms = params(Mcore[i], rcore[i], a, delad, Y, gamma, R, Cv, Pd, Td,\\\n",
    "            kappa = kdust)\n",
    "    model, param, prof = atmSG.atmload('a1Mc' + str(int(Mcore[i]/Me)), prms)\n",
    "    dt = cool.cooling_global(param, prof, model, out='rcb')[1]\n",
    "        \n",
    "    time = []\n",
    "    \n",
    "    for j in range(len(dt)):\n",
    "        time = np.append(time, sum(dt[:j + 1]))\n",
    "        \n",
    "    f = interp1d(time / yr, param.MB[:-1])\n",
    "    MBd = float(f(3e6))\n",
    "    \n",
    "    fMrcb = interp1d(param.MB, param.Mcb)\n",
    "    Mrcbd = float(fMrcb(MBd))\n",
    "    \n",
    "    frcb = interp1d(param.MB, param.rcb)\n",
    "    rcbd = float(frcb(MBd))\n",
    "\n",
    "    fRB = interp1d(param.MB, param.RB)\n",
    "    RBd = float(fRB(MBd))\n",
    "    \n",
    "    fEtotB = interp1d(param.MB, param.EtotB)\n",
    "    EtotBd = float(fEtotB(MBd))\n",
    "    \n",
    "    Eevap = - G * model.Mco * (MBd * Me - model.Mco) / (RBd * Re)\n",
    "    Eevaprcb = - G * model.Mco * (Mrcbd * Me - model.Mco) / (rcbd * Re)\n",
    "    \n",
    "    ratio = Eevap / EtotBd\n",
    "    ratiorcb = Eevaprcb / EtotBd\n",
    "    RBoverrc = RBd*Re/model.rco\n",
    "    rcboverrc = rcbd*Re/model.rco\n",
    "    fracm = (MBd*Me/model.Mco - 1)*100\n",
    "    fracmrcb = (Mrcbd*Me/model.Mco - 1)*100\n",
    "    \n",
    "    ratiov = np.append(ratiov, ratio)\n",
    "    ratiorcbv = np.append(ratiorcbv, ratiorcb)\n",
    "    RBoverrcv = np.append(RBoverrcv, RBoverrc)\n",
    "    rcboverrcv = np.append(rcboverrcv, rcboverrc)\n",
    "    fracmv = np.append(fracmv, fracm)\n",
    "    fracmrcbv = np.append(fracmrcbv, fracmrcb)\n",
    "    MBv = np.append(MBv, MBd)\n",
    "    RBv = np.append(RBv, RBd)\n",
    "    \n",
    "    \n",
    "    \n"
   ]
  },
  {
   "cell_type": "code",
   "execution_count": 92,
   "metadata": {
    "collapsed": false
   },
   "outputs": [],
   "source": [
    "a = 1\n",
    "\n",
    "delad = 2./7\n",
    "gamma = gammafn(delad)\n",
    "R = Rfn(Y)\n",
    "Cv = Cvfn(Y, delad)\n",
    "Pd = Pdisk(a, mstar, FSigma, FT)\n",
    "Td = Tdisk(a, FT)\n",
    "nMco = 9\n",
    "\n",
    "Mcore = numpy.linspace(2*Me, 10*Me, nMco) \n",
    "rcore = (3 * Mcore / (4 * numpy.pi * rhoc))**(1./3)\n",
    "\n",
    "ratiovn, ratiorcbvn, RBoverrcvn, rcboverrcvn, fracmvn, fracmrcbvn, MBvn, RBvn = [], [], [], [], [], [], [], []\n",
    "\n",
    "for i in range(nMco):\n",
    "    prms = params(Mcore[i], rcore[i], a, delad, Y, gamma, R, Cv, Pd, Td,\\\n",
    "            kappa = kdust)\n",
    "    modeln, paramn, profn = atmnoSG.atmload('a1Mc' + str(int(Mcore[i]/Me)), prms)\n",
    "    dtn = cool.cooling_global(paramn, profn, modeln, out='rcb')[1]\n",
    "    \n",
    "    paramn.MB = paramn.Mtot\n",
    "    paramn.RB = paramn.rout\n",
    "    paramn.EtotB = paramn.Etotout  \n",
    "    paramn.EgB = paramn.Egout\n",
    "    paramn.UB = paramn.Uout  \n",
    "    \n",
    "    timen = []\n",
    "    \n",
    "    for j in range(len(dtn)):\n",
    "        timen = np.append(timen, sum(dtn[:j + 1]))\n",
    "        \n",
    "    fn = interp1d(timen / yr, paramn.MB[:-1])\n",
    "    MBdn = float(fn(3e6))\n",
    "    \n",
    "    fMrcbn = interp1d(paramn.MB, paramn.Mcb)\n",
    "    Mrcbdn = float(fMrcbn(MBdn))\n",
    "    \n",
    "    frcbn = interp1d(paramn.MB, paramn.rcb)\n",
    "    rcbdn = float(frcbn(MBdn))\n",
    "\n",
    "    fRBn = interp1d(paramn.MB, paramn.RB)\n",
    "    RBdn = float(fRBn(MBdn))\n",
    "    \n",
    "    fEtotBn = interp1d(paramn.MB, paramn.EtotB)\n",
    "    EtotBdn = float(fEtotBn(MBdn))\n",
    "    \n",
    "    Eevapn = - G * modeln.Mco * (MBdn * Me - modeln.Mco) / (RBdn * Re)\n",
    "    Eevaprcbn = - G * modeln.Mco * (Mrcbdn * Me - modeln.Mco) / (rcbdn * Re)\n",
    "    \n",
    "    ration = Eevapn / EtotBdn\n",
    "    ratiorcbn = Eevaprcbn / EtotBdn\n",
    "    RBoverrcn = RBdn*Re/modeln.rco\n",
    "    rcboverrcn = rcbdn*Re/modeln.rco\n",
    "    fracmn = (MBdn*Me/modeln.Mco - 1)*100\n",
    "    fracmrcbn = (Mrcbdn*Me/modeln.Mco - 1)*100\n",
    "    \n",
    "    ratiovn = np.append(ratiovn, ration)\n",
    "    ratiorcbvn = np.append(ratiorcbvn, ratiorcbn)\n",
    "    RBoverrcvn = np.append(RBoverrcvn, RBoverrcn)\n",
    "    rcboverrcvn = np.append(rcboverrcvn, rcboverrcn)\n",
    "    fracmvn = np.append(fracmvn, fracmn)\n",
    "    fracmrcbvn = np.append(fracmrcbvn, fracmrcbn)\n",
    "    MBvn = np.append(MBvn, MBdn)\n",
    "    RBvn = np.append(RBvn, RBdn)\n",
    "    \n",
    "    \n",
    "    \n"
   ]
  },
  {
   "cell_type": "code",
   "execution_count": 93,
   "metadata": {
    "collapsed": false
   },
   "outputs": [
    {
     "data": {
      "text/plain": [
       "10.991191649723529"
      ]
     },
     "execution_count": 93,
     "metadata": {},
     "output_type": "execute_result"
    }
   ],
   "source": [
    "MBdn"
   ]
  },
  {
   "cell_type": "code",
   "execution_count": 263,
   "metadata": {
    "collapsed": false
   },
   "outputs": [
    {
     "data": {
      "text/plain": [
       "[<matplotlib.lines.Line2D at 0x123786c10>]"
      ]
     },
     "execution_count": 263,
     "metadata": {},
     "output_type": "execute_result"
    },
    {
     "data": {
      "image/png": "[encoded data removed]",
      "text/plain": [
       "<matplotlib.figure.Figure at 0x124e1e050>"
      ]
     },
     "metadata": {},
     "output_type": "display_data"
    }
   ],
   "source": [
    "plt.plot(param.MB, np.ones(len(param.MB)) * G * 2*Me / (model.R * model.Td) / Re)\n",
    "#plt.plot(param.MB, param.RB)\n",
    "plt.plot(param.MB, np.ones(len(param.MB)) * RHill(2*Me, model.a)/Re)"
   ]
  },
  {
   "cell_type": "code",
   "execution_count": null,
   "metadata": {
    "collapsed": false
   },
   "outputs": [],
   "source": []
  },
  {
   "cell_type": "code",
   "execution_count": null,
   "metadata": {
    "collapsed": true
   },
   "outputs": [],
   "source": []
  },
  {
   "cell_type": "code",
   "execution_count": 94,
   "metadata": {
    "collapsed": true
   },
   "outputs": [],
   "source": [
    "gamma = model.gamma\n",
    "exponent = -(3-2*gamma)/(gamma-1)"
   ]
  },
  {
   "cell_type": "code",
   "execution_count": 95,
   "metadata": {
    "collapsed": false
   },
   "outputs": [
    {
     "data": {
      "text/plain": [
       "(array([ 0.57315346,  0.49642458,  0.45166765,  0.4207092 ,  0.39734698,\n",
       "         0.3787162 ,  0.36333642,  0.3503106 ,  0.3390813 ]),\n",
       " array([ 25.16059802,  34.09214167,  42.09316317,  49.36128741,\n",
       "         56.01649891,  62.15681827,  67.8444068 ,  73.13622269,  78.07197052]),\n",
       " array([ 169.33266834,  170.05235074,  170.70693313,  171.30641417,\n",
       "         171.8614962 ,  172.37889556,  172.86656701,  173.3295319 ,\n",
       "         173.77353844]),\n",
       " array([ 1.78415618,  2.81703023,  3.83315683,  4.82708668,  5.79863942,\n",
       "         6.74583535,  7.67153384,  8.57671949,  9.46524552]),\n",
       " array([  3.30119215,   4.6239192 ,   5.83675831,   6.95570317,\n",
       "          7.99873538,   8.97709681,   9.90462032,  10.79005029,  11.64359921]))"
      ]
     },
     "execution_count": 95,
     "metadata": {},
     "output_type": "execute_result"
    }
   ],
   "source": [
    "ratiorcbv, rcboverrcv, RBoverrcv, fracmrcbv, fracmv"
   ]
  },
  {
   "cell_type": "code",
   "execution_count": 96,
   "metadata": {
    "collapsed": false
   },
   "outputs": [
    {
     "data": {
      "text/plain": [
       "(array([ 0.57188786,  0.49503699,  0.44986175,  0.41737614,  0.39214721,\n",
       "         0.37191815,  0.35601308,  0.34320983,  0.33073852]),\n",
       " array([ 23.91631282,  32.3632646 ,  39.61296683,  46.20534861,\n",
       "         52.26081232,  57.84731383,  62.64290564,  66.85655052,  71.19302001]),\n",
       " array([ 167.04326783,  167.50934367,  167.50934367,  167.50934367,\n",
       "         167.50934367,  167.50934367,  167.50934367,  167.50934367,\n",
       "         167.50934367]),\n",
       " array([ 1.83240101,  2.74371636,  3.60225744,  4.42142951,  5.20630884,\n",
       "         5.93250912,  6.64750582,  7.30506545,  7.9507453 ]),\n",
       " array([ 3.30702705,  4.47013519,  5.4878272 ,  6.39701782,  7.22220037,\n",
       "         7.95204898,  8.66402917,  9.30916154,  9.9119165 ]))"
      ]
     },
     "execution_count": 96,
     "metadata": {},
     "output_type": "execute_result"
    }
   ],
   "source": [
    "ratiorcbvn, rcboverrcvn, RBoverrcvn, fracmrcbvn, fracmvn"
   ]
  },
  {
   "cell_type": "code",
   "execution_count": 365,
   "metadata": {
    "collapsed": false
   },
   "outputs": [
    {
     "data": {
      "text/plain": [
       "array([ 0.52438935,  0.57384117,  0.57384117,  0.61523898,  0.6508856 ,\n",
       "        0.68210533,  0.70970925])"
      ]
     },
     "execution_count": 365,
     "metadata": {},
     "output_type": "execute_result"
    }
   ],
   "source": [
    "rcboverrcv/RBoverrcv"
   ]
  },
  {
   "cell_type": "code",
   "execution_count": 100,
   "metadata": {
    "collapsed": false
   },
   "outputs": [
    {
     "data": {
      "image/png": "[encoded data removed]",
      "text/plain": [
       "<matplotlib.figure.Figure at 0x11081fbd0>"
      ]
     },
     "metadata": {},
     "output_type": "display_data"
    }
   ],
   "source": [
    "fig = plt.figure(figsize = (7, 3.5))\n",
    "\n",
    "rnb = np.linspace(0, 256, nMco)\n",
    "#Z = [[165,175],[0.15,0.19]]\n",
    "x = np.linspace(20, 80, 100)\n",
    "y = np.linspace(0.3, 0.6, 100)\n",
    "X, Y = np.meshgrid(x, y)\n",
    "Z1 = plt.mlab.bivariate_normal(X, Y, 1.0, 1.0, 0.0, 0.0)\n",
    "Z2 = plt.mlab.bivariate_normal(X, Y, 1.5, 0.5, 1, 1)\n",
    "Z = 10 * (Z1 - Z2)\n",
    "levels = Mcore/Me\n",
    "CS = plt.contourf(X, Y, Z, levels, cmap=get_cmap(cm.rainbow))\n",
    "\n",
    "\n",
    "for i in range(nMco):\n",
    "    plt.plot(rcboverrcv[i], ratiorcbv[i], 'o', c = cm.rainbow(int(rnb[i])), \\\n",
    "             label = r' $M_{\\rm atm}/M_c=$ %.1f' % float(fracmv[i]) + '%')\n",
    "    #plt.plot(rcboverrcvn[i], ratiorcbvn[i], 's', c = cm.rainbow(int(rnb[i])), \\\n",
    "    #         label = r' $M_{\\rm atm}/M_c=$ %.1f' % float(fracmvn[i]) + '%')\n",
    "plt.legend(frameon = False, loc = 1, labelspacing = 0.05, prop = {'size':9.5}, numpoints = 1)\n",
    "    \n",
    "cbar = fig.colorbar(CS)\n",
    "cbar.set_label(r'$M_{\\rm c}$ [$M_{\\oplus}$]')\n",
    "plt.xlabel(r'$R_{\\rm RCB,d}/R_c$')\n",
    "plt.ylabel(r'$E_{\\rm evap}/E_{\\rm cool}$')\n",
    "\n",
    "\n",
    "#plt.ylim(0.15, 0.19)\n",
    "#plt.xlim(168, 175)\n",
    "plt.title('a=1 AU')\n",
    "\n",
    "plt.tight_layout()\n",
    "#plt.savefig('../figs/evap_vs_cool_1au_rcb.pdf')"
   ]
  },
  {
   "cell_type": "code",
   "execution_count": 308,
   "metadata": {
    "collapsed": false
   },
   "outputs": [],
   "source": [
    "#a = (ratiov[0] * exponent - ratiov[1] * exponent) / (RBoverrcv[0] - RBoverrcv[1])\n",
    "#b = (ratiov[1] * exponent * RBoverrcv[0] - ratiov[0] * exponent * RBoverrcv[1]) / (RBoverrcv[0] - RBoverrcv[1])"
   ]
  },
  {
   "cell_type": "code",
   "execution_count": 105,
   "metadata": {
    "collapsed": true
   },
   "outputs": [],
   "source": [
    "a = (ratiorcbv[0] - ratiorcbv[1]) / (rcboverrcv[0] * exponent - rcboverrcv[1] * exponent)\n",
    "b = (ratiorcbv[1] * exponent * rcboverrcv[0] - ratiorcbv[0] * exponent * rcboverrcv[1]) / \\\n",
    "    (rcboverrcv[0] * exponent - rcboverrcv[1] * exponent)"
   ]
  },
  {
   "cell_type": "code",
   "execution_count": 99,
   "metadata": {
    "collapsed": true
   },
   "outputs": [],
   "source": [
    "an = (ratiorcbvn[0] - ratiorcbvn[1]) / (rcboverrcvn[0] * exponent - rcboverrcvn[1] * exponent)\n",
    "bn = (ratiorcbvn[1] * exponent * rcboverrcvn[0] - ratiorcbvn[0] * exponent * rcboverrcvn[1]) / \\\n",
    "    (rcboverrcvn[0] * exponent - rcboverrcvn[1] * exponent)"
   ]
  },
  {
   "cell_type": "code",
   "execution_count": 109,
   "metadata": {
    "collapsed": false
   },
   "outputs": [
    {
     "data": {
      "image/png": "[encoded data removed]",
      "text/plain": [
       "<matplotlib.figure.Figure at 0x11a570850>"
      ]
     },
     "metadata": {},
     "output_type": "display_data"
    }
   ],
   "source": [
    "fig = plt.figure(figsize = (7, 3.5))\n",
    "\n",
    "rnb = np.linspace(0, 256, nMco)\n",
    "#Z = [[165,175],[0.15,0.19]]\n",
    "x = np.linspace(-40, -10, 100)\n",
    "y = np.linspace(0.1, 0.6, 100)\n",
    "X, Y = np.meshgrid(x, y)\n",
    "Z1 = plt.mlab.bivariate_normal(X, Y, 1.0, 1.0, 0.0, 0.0)\n",
    "Z2 = plt.mlab.bivariate_normal(X, Y, 1.5, 0.5, 1, 1)\n",
    "Z = 10 * (Z1 - Z2)\n",
    "levels = Mcore/Me\n",
    "CS = plt.contourf(X, Y, Z, levels, cmap=get_cmap(cm.rainbow))\n",
    "\n",
    "\n",
    "for i in range(nMco):\n",
    "    plt.plot(rcboverrcv[i] * exponent, ratiorcbv[i], 'o', c = cm.rainbow(int(rnb[i])), \\\n",
    "             label = r' $M_{\\rm atm}/M_c=$ %.1f' % float(fracmv[i]) + '%')\n",
    "#    plt.plot(rcboverrcvn[i] * exponent, ratiorcbvn[i], 's', c = cm.rainbow(int(rnb[i])))\n",
    "#plt.plot(rcboverrcv * exponent, a * rcboverrcv * exponent + b, c = 'black', ls = '--')\n",
    "plt.plot(rcboverrcvn * exponent, an * rcboverrcvn * exponent + bn, c = 'black', ls = '--')\n",
    "plt.legend(frameon = False, loc = 4, labelspacing = 0.05, prop = {'size':9.5}, numpoints = 1)\n",
    "\n",
    "    \n",
    "cbar = fig.colorbar(CS)\n",
    "cbar.set_label(r'$M_{\\rm c}$ [$M_{\\oplus}$]')\n",
    "plt.xlabel(r'$(R_{\\rm RCB,d}/R_c)^{-(3-2\\gamma)/(\\gamma-1)}$')\n",
    "plt.ylabel(r'$E_{\\rm evap}/E_{\\rm cool}$')\n",
    "\n",
    "#plt.xlim(168.5, 175)\n",
    "#plt.ylim(-0.097, -0.077)\n",
    "plt.title('a=1 AU')\n",
    "\n",
    "plt.tight_layout()\n",
    "#plt.savefig('../figs/evap_vs_cool_1au_analytic_comp_rcb.pdf')\n"
   ]
  },
  {
   "cell_type": "code",
   "execution_count": 479,
   "metadata": {
    "collapsed": false
   },
   "outputs": [],
   "source": [
    "a = 10\n",
    "\n",
    "delad = 2./7\n",
    "gamma = gammafn(delad)\n",
    "R = Rfn(Y)\n",
    "Cv = Cvfn(Y, delad)\n",
    "Pd = Pdisk(a, mstar, FSigma, FT)\n",
    "Td = Tdisk(a, FT)\n",
    "nMco = 10\n",
    "\n",
    "Mcore = numpy.linspace(1*Me, 10*Me, nMco) \n",
    "rcore = (3 * Mcore / (4 * numpy.pi * rhoc))**(1./3)\n",
    "\n",
    "ratiov, ratiorcbv, RBoverrcv, rcboverrcv, fracmv, fracmrcbv, MBv, RBv = [], [], [], [], [], [], [], []\n",
    "\n",
    "for i in range(nMco):\n",
    "    prms = params(Mcore[i], rcore[i], a, delad, Y, gamma, R, Cv, Pd, Td,\\\n",
    "            kappa = kdust)\n",
    "    model, param, prof = atmSG.atmload('a10Mc' + str(int(Mcore[i]/Me)), prms)\n",
    "    dt = cool.cooling_global(param, prof, model, out='rcb')[1]\n",
    "        \n",
    "    time = []\n",
    "    \n",
    "    for i in range(len(dt)):\n",
    "        time = np.append(time, sum(dt[:i + 1]))\n",
    "        \n",
    "    f = interp1d(time / yr, param.MB[:-1])\n",
    "    MBd = float(f(3e6))\n",
    "    \n",
    "    fMrcb = interp1d(param.MB, param.Mcb)\n",
    "    Mrcbd = float(fMrcb(MBd))\n",
    "    \n",
    "    frcb = interp1d(param.MB, param.rcb)\n",
    "    rcbd = float(frcb(MBd))\n",
    "\n",
    "    fRB = interp1d(param.MB, param.RB)\n",
    "    RBd = float(fRB(MBd))\n",
    "    \n",
    "    fEtotB = interp1d(param.MB, param.EtotB)\n",
    "    EtotBd = float(fEtotB(MBd))\n",
    "    \n",
    "    Eevap = - G * model.Mco * (MBd * Me - model.Mco) / (RBd * Re)\n",
    "    Eevaprcb = - G * model.Mco * (Mrcbd * Me - model.Mco) / (rcbd * Re)\n",
    "    \n",
    "    ratio = Eevap / EtotBd\n",
    "    ratiorcb = Eevaprcb / EtotBd\n",
    "    RBoverrc = RBd*Re/model.rco\n",
    "    rcboverrc = rcbd*Re/model.rco\n",
    "    fracm = (MBd*Me/model.Mco - 1)*100\n",
    "    fracmrcb = (Mrcbd*Me/model.Mco - 1)*100\n",
    "    \n",
    "    ratiov = np.append(ratiov, ratio)\n",
    "    ratiorcbv = np.append(ratiorcbv, ratiorcb)\n",
    "    RBoverrcv = np.append(RBoverrcv, RBoverrc)\n",
    "    rcboverrcv = np.append(rcboverrcv, rcboverrc)\n",
    "    fracmv = np.append(fracmv, fracm)\n",
    "    fracmrcbv = np.append(fracmrcbv, fracmrcb)\n",
    "    MBv = np.append(MBv, MBd)\n",
    "    RBv = np.append(RBv, RBd)\n",
    "    \n",
    "    \n",
    "    \n"
   ]
  },
  {
   "cell_type": "code",
   "execution_count": 480,
   "metadata": {
    "collapsed": false
   },
   "outputs": [
    {
     "data": {
      "text/plain": [
       "(array([ 0.0394888 ,  0.03438954,  0.0319533 ,  0.03049481,  0.0295445 ,\n",
       "         0.02891504,  0.0285208 ,  0.02832564,  0.0283278 ,  0.0285653 ]),\n",
       " array([  288.11349223,   468.80974362,   630.91254514,   786.70280797,\n",
       "          942.16762147,  1101.64140069,  1269.31268004,  1450.2281585 ,\n",
       "         1651.65048447,  1885.90661777]),\n",
       " array([  2.05865824,   4.61554536,   7.44212379,  10.59197922,\n",
       "         14.13909641,  18.18408748,  22.87292109,  28.42885181,\n",
       "         35.22056116,  43.92617232]))"
      ]
     },
     "execution_count": 480,
     "metadata": {},
     "output_type": "execute_result"
    }
   ],
   "source": [
    "ratiov, RBoverrcv, fracmv"
   ]
  },
  {
   "cell_type": "code",
   "execution_count": 481,
   "metadata": {
    "collapsed": false
   },
   "outputs": [
    {
     "data": {
      "text/plain": [
       "(array([ 0.43186812,  0.3482487 ,  0.3082202 ,  0.28394135,  0.26770189,\n",
       "         0.25638763,  0.24851482,  0.24340272,  0.24077555,  0.24084074]),\n",
       " array([  24.99817748,   43.26212653,   60.32121279,   77.01252463,\n",
       "          93.76961575,  110.93353743,  128.85082824,  147.93338802,\n",
       "         168.81632756,  192.56527061]),\n",
       " array([  288.11349223,   468.80974362,   630.91254514,   786.70280797,\n",
       "          942.16762147,  1101.64140069,  1269.31268004,  1450.2281585 ,\n",
       "         1651.65048447,  1885.90661777]),\n",
       " array([  1.95346742,   4.31317863,   6.86346176,   9.65451605,\n",
       "         12.75059457,  16.23630992,  20.23162753,  24.91924577,\n",
       "         30.59793798,  37.81571746]),\n",
       " array([  2.05865824,   4.61554536,   7.44212379,  10.59197922,\n",
       "         14.13909641,  18.18408748,  22.87292109,  28.42885181,\n",
       "         35.22056116,  43.92617232]))"
      ]
     },
     "execution_count": 481,
     "metadata": {},
     "output_type": "execute_result"
    }
   ],
   "source": [
    "ratiorcbv, rcboverrcv, RBoverrcv, fracmrcbv, fracmv"
   ]
  },
  {
   "cell_type": "code",
   "execution_count": 466,
   "metadata": {
    "collapsed": false
   },
   "outputs": [
    {
     "data": {
      "image/png": "[encoded data removed]",
      "text/plain": [
       "<matplotlib.figure.Figure at 0x13c4fa750>"
      ]
     },
     "metadata": {},
     "output_type": "display_data"
    }
   ],
   "source": [
    "fig = plt.figure(figsize = (7, 3.5))\n",
    "\n",
    "rnb = np.linspace(0, 256, nMco)\n",
    "#Z = [[165,175],[0.15,0.19]]\n",
    "x = np.linspace(20, 200, 100)\n",
    "y = np.linspace(0.2, 0.45, 100)\n",
    "X, Y = np.meshgrid(x, y)\n",
    "Z1 = plt.mlab.bivariate_normal(X, Y, 1.0, 1.0, 0.0, 0.0)\n",
    "Z2 = plt.mlab.bivariate_normal(X, Y, 1.5, 0.5, 1, 1)\n",
    "Z = 10 * (Z1 - Z2)\n",
    "levels = Mcore/Me\n",
    "CS = plt.contourf(X, Y, Z, levels, cmap=get_cmap(cm.rainbow))\n",
    "\n",
    "\n",
    "for i in range(nMco):\n",
    "    plt.plot(rcboverrcv[i], ratiorcbv[i], 'o', c = cm.rainbow(int(rnb[i])), \\\n",
    "             label = r' $M_{\\rm atm}/M_c=$ %.1f' % float(fracmv[i]) + '%')\n",
    "plt.legend(frameon = False, loc = 1, labelspacing = 0.05, prop = {'size':9}, numpoints = 1)\n",
    "    \n",
    "cbar = fig.colorbar(CS)\n",
    "cbar.set_label(r'$M_{\\rm c}$ [$M_{\\oplus}$]')\n",
    "plt.xlabel(r'$R_{\\rm RCB,d}/R_c$')\n",
    "plt.ylabel(r'$E_{\\rm evap}/E_{\\rm cool}$')\n",
    "\n",
    "\n",
    "#plt.ylim(0.15, 0.19)\n",
    "#plt.xlim(168, 175)\n",
    "plt.title('a=10 AU')\n",
    "\n",
    "plt.tight_layout()\n",
    "#plt.savefig('../figs/evap_vs_cool_10au_rcb.pdf')"
   ]
  },
  {
   "cell_type": "code",
   "execution_count": 468,
   "metadata": {
    "collapsed": true
   },
   "outputs": [],
   "source": [
    "a = (ratiorcbv[0] - ratiorcbv[1]) / (rcboverrcv[0] * exponent - rcboverrcv[1] * exponent)\n",
    "b = (ratiorcbv[1] * exponent * rcboverrcv[0] - ratiorcbv[0] * exponent * rcboverrcv[1]) / \\\n",
    "    (rcboverrcv[0] * exponent - rcboverrcv[1] * exponent)"
   ]
  },
  {
   "cell_type": "code",
   "execution_count": 472,
   "metadata": {
    "collapsed": false
   },
   "outputs": [
    {
     "data": {
      "image/png": "[encoded data removed]",
      "text/plain": [
       "<matplotlib.figure.Figure at 0x13be08e50>"
      ]
     },
     "metadata": {},
     "output_type": "display_data"
    }
   ],
   "source": [
    "fig = plt.figure(figsize = (7, 4.5))\n",
    "\n",
    "rnb = np.linspace(0, 256, nMco)\n",
    "#Z = [[165,175],[0.15,0.19]]\n",
    "x = np.linspace(-100, -10, 100)\n",
    "y = np.linspace(-0.4, 0.5, 100)\n",
    "X, Y = np.meshgrid(x, y)\n",
    "Z1 = plt.mlab.bivariate_normal(X, Y, 1.0, 1.0, 0.0, 0.0)\n",
    "Z2 = plt.mlab.bivariate_normal(X, Y, 1.5, 0.5, 1, 1)\n",
    "Z = 10 * (Z1 - Z2)\n",
    "levels = Mcore/Me\n",
    "CS = plt.contourf(X, Y, Z, levels, cmap=get_cmap(cm.rainbow))\n",
    "\n",
    "\n",
    "for i in range(nMco):\n",
    "    plt.plot(rcboverrcv[i] * exponent, ratiorcbv[i], 'o', c = cm.rainbow(int(rnb[i])), \\\n",
    "             label = r' $M_{\\rm atm}/M_c=$ %.1f' % float(fracmv[i]) + '%')\n",
    "plt.plot(rcboverrcv * exponent, a * rcboverrcv * exponent + b, c = 'black', ls = '--')\n",
    "plt.legend(frameon = False, loc = 4, labelspacing = 0.05, prop = {'size':9.5}, numpoints = 1)\n",
    "\n",
    "    \n",
    "cbar = fig.colorbar(CS)\n",
    "cbar.set_label(r'$M_{\\rm c}$ [$M_{\\oplus}$]')\n",
    "plt.xlabel(r'$(R_{\\rm RCB,d}/R_c)^{-(3-2\\gamma)/(\\gamma-1)}$')\n",
    "plt.ylabel(r'$E_{\\rm evap}/E_{\\rm cool}$')\n",
    "\n",
    "#plt.xlim(168.5, 175)\n",
    "#plt.ylim(-0.097, -0.077)\n",
    "plt.title('a=1 AU')\n",
    "\n",
    "plt.tight_layout()\n",
    "plt.savefig('../figs/evap_vs_cool_10au_analytic_comp_rcb.pdf')\n"
   ]
  },
  {
   "cell_type": "code",
   "execution_count": 484,
   "metadata": {
    "collapsed": false
   },
   "outputs": [],
   "source": [
    "a = 0.1\n",
    "\n",
    "delad = 2./7\n",
    "gamma = gammafn(delad)\n",
    "R = Rfn(Y)\n",
    "Cv = Cvfn(Y, delad)\n",
    "Pd = Pdisk(a, mstar, FSigma, FT)\n",
    "Td = 1e3 #Tdisk(a, FT)\n",
    "nMco = 1\n",
    "\n",
    "Mcore = numpy.linspace(10*Me, 10*Me, nMco) \n",
    "rcore = (3 * Mcore / (4 * numpy.pi * rhoc))**(1./3)\n",
    "\n",
    "ratiov, ratiorcbv, RBoverrcv, rcboverrcv, fracmv, fracmrcbv, MBv, RBv = [], [], [], [], [], [], [], []\n",
    "\n",
    "for i in range(nMco):\n",
    "    prms = params(Mcore[i], rcore[i], a, delad, Y, gamma, R, Cv, Pd, Td,\\\n",
    "            kappa = kdust)\n",
    "    model, param, prof = atmSG.atmload('a01Mc' + str(int(Mcore[i]/Me)), prms)\n",
    "    dt = cool.cooling_global(param, prof, model, out='rcb')[1]\n",
    "        \n",
    "    time = []\n",
    "    \n",
    "    for i in range(len(dt)):\n",
    "        time = np.append(time, sum(dt[:i + 1]))\n",
    "        \n",
    "    f = interp1d(time / yr, param.MB[:-1])\n",
    "    MBd = float(f(3e6))\n",
    "    \n",
    "    fMrcb = interp1d(param.MB, param.Mcb)\n",
    "    Mrcbd = float(fMrcb(MBd))\n",
    "    \n",
    "    frcb = interp1d(param.MB, param.rcb)\n",
    "    rcbd = float(frcb(MBd))\n",
    "\n",
    "    fRB = interp1d(param.MB, param.RB)\n",
    "    RBd = float(fRB(MBd))\n",
    "    \n",
    "    fEtotB = interp1d(param.MB, param.EtotB)\n",
    "    EtotBd = float(fEtotB(MBd))\n",
    "    \n",
    "    Eevap = - G * model.Mco * (MBd * Me - model.Mco) / (RBd * Re)\n",
    "    Eevaprcb = - G * model.Mco * (Mrcbd * Me - model.Mco) / (rcbd * Re)\n",
    "    \n",
    "    ratio = Eevap / EtotBd\n",
    "    ratiorcb = Eevaprcb / EtotBd\n",
    "    RBoverrc = RBd*Re/model.rco\n",
    "    rcboverrc = rcbd*Re/model.rco\n",
    "    fracm = (MBd*Me/model.Mco - 1)*100\n",
    "    fracmrcb = (Mrcbd*Me/model.Mco - 1)*100\n",
    "    \n",
    "    ratiov = np.append(ratiov, ratio)\n",
    "    ratiorcbv = np.append(ratiorcbv, ratiorcb)\n",
    "    RBoverrcv = np.append(RBoverrcv, RBoverrc)\n",
    "    rcboverrcv = np.append(rcboverrcv, rcboverrc)\n",
    "    fracmv = np.append(fracmv, fracm)\n",
    "    fracmrcbv = np.append(fracmrcbv, fracmrcb)\n",
    "    MBv = np.append(MBv, MBd)\n",
    "    RBv = np.append(RBv, RBd)\n",
    "    \n",
    "    \n",
    "    \n"
   ]
  },
  {
   "cell_type": "code",
   "execution_count": 485,
   "metadata": {
    "collapsed": false
   },
   "outputs": [
    {
     "data": {
      "text/plain": [
       "(array([ 0.86516437]),\n",
       " array([ 11.91712271]),\n",
       " array([ 16.79155603]),\n",
       " array([ 0.59791922]),\n",
       " array([ 0.72931352]))"
      ]
     },
     "execution_count": 485,
     "metadata": {},
     "output_type": "execute_result"
    }
   ],
   "source": [
    "ratiorcbv, rcboverrcv, RBoverrcv, fracmrcbv, fracmv"
   ]
  },
  {
   "cell_type": "code",
   "execution_count": 502,
   "metadata": {
    "collapsed": false
   },
   "outputs": [
    {
     "data": {
      "text/plain": [
       "(array([ 0.86933567]),\n",
       " array([ 10.22424546]),\n",
       " array([ 16.75093437]),\n",
       " array([ 0.70620944]),\n",
       " array([ 0.90228295]))"
      ]
     },
     "execution_count": 502,
     "metadata": {},
     "output_type": "execute_result"
    }
   ],
   "source": [
    "ratiorcbv, rcboverrcv, RBoverrcv, fracmrcbv, fracmv"
   ]
  },
  {
   "cell_type": "code",
   "execution_count": 132,
   "metadata": {
    "collapsed": false
   },
   "outputs": [
    {
     "data": {
      "text/plain": [
       "<module 'evaporation_2' from 'evaporation_2.pyc'>"
      ]
     },
     "execution_count": 132,
     "metadata": {},
     "output_type": "execute_result"
    }
   ],
   "source": [
    "reload(evap2)"
   ]
  },
  {
   "cell_type": "code",
   "execution_count": 133,
   "metadata": {
    "collapsed": false
   },
   "outputs": [],
   "source": [
    "a = 1\n",
    "\n",
    "delad = 2./7\n",
    "Y = 0.3\n",
    "gamma = gammafn(delad)\n",
    "R = Rfn(Y)\n",
    "Cv = Cvfn(Y, delad)\n",
    "Pd = Pdisk(a, mstar, FSigma, FT)\n",
    "Td = Tdisk(a, FT)\n",
    "nMco = 9\n",
    "\n",
    "Mcore = numpy.linspace(2*Me, 10*Me, nMco) \n",
    "rcore = (3 * Mcore / (4 * numpy.pi * rhoc))**(1./3)\n",
    "\n",
    "MBf, MBmax = [], []\n",
    "L = 0 * np.ndarray(shape = (nMco, 300), dtype = float)\n",
    "time = 0 * np.ndarray(shape = (nMco, 300), dtype = float)\n",
    "\n",
    "L2, t2, Mf2, rf2, ind, MBd = [], [], [], [], [], []\n",
    "\n",
    "for i in range(nMco):\n",
    "    prms = params(Mcore[i], rcore[i], a, delad, Y, gamma, R, Cv, Pd, Td,\\\n",
    "            kappa = kdust)\n",
    "    model2, param2, prof2, time2 = evap2.mass_loss('a1Mc' + str(int(Mcore[i]/Me)), prms)\n",
    "    MBf = np.append(MBf, param2.MB[-1])\n",
    "    MBmax = np.append(MBmax, param2.MB.max())\n",
    "    for j in range(len(param2)):\n",
    "        L[i, j] = param2.L[j]\n",
    "        time[i, j] = time2[j]\n",
    "        \n",
    "    Ltemp, ttemp, Mftemp, rftemp, MBdtemp = evap2.mass_loss_2('a1Mc' + str(int(Mcore[i]/Me)), prms)\n",
    "    indtemp = list(param2.MB).index(param2.MB.max())\n",
    "    \n",
    "    L2 = np.append(L2, Ltemp)\n",
    "    t2 = np.append(t2, ttemp)\n",
    "    Mf2 = np.append(Mf2, Mftemp)\n",
    "    rf2 = np.append(rf2, rftemp)\n",
    "    ind = np.append(ind, int(indtemp))\n",
    "    MBd = np.append(MBd, MBdtemp)\n",
    "        \n",
    "    "
   ]
  },
  {
   "cell_type": "code",
   "execution_count": 134,
   "metadata": {
    "collapsed": false
   },
   "outputs": [
    {
     "name": "stdout",
     "output_type": "stream",
     "text": [
      "[  3.30119215   4.6239192    5.83675831   6.95570317   7.99873538\n",
      "   8.97709681   9.90462032  10.79005029  11.64359921] [ 2.24258003  3.11621923  3.53431295  4.20081138  4.64484394  5.33842353\n",
      "  5.57138549  6.05379616  6.54892598] [ 0.34857063  0.49890855  0.62592522  0.73649335  0.84606087  0.94540965\n",
      "  1.03298815  1.11913895  1.20477757]\n"
     ]
    }
   ],
   "source": [
    "ratiomax = (MBd/Mcore*Me - 1) * 100\n",
    "ratio = (MBf/Mcore*Me - 1) * 100\n",
    "ratio2 = (Mf2/Mcore*Me - 1) * 100\n",
    "print ratiomax, ratio, ratio2"
   ]
  },
  {
   "cell_type": "code",
   "execution_count": null,
   "metadata": {
    "collapsed": false
   },
   "outputs": [],
   "source": []
  },
  {
   "cell_type": "code",
   "execution_count": null,
   "metadata": {
    "collapsed": true
   },
   "outputs": [],
   "source": []
  },
  {
   "cell_type": "code",
   "execution_count": 125,
   "metadata": {
    "collapsed": false
   },
   "outputs": [
    {
     "name": "stderr",
     "output_type": "stream",
     "text": [
      "/anaconda/lib/python2.7/site-packages/ipykernel/__main__.py:10: VisibleDeprecationWarning: using a non-integer number instead of an integer will result in an error in the future\n"
     ]
    },
    {
     "data": {
      "image/png": "[encoded data removed]",
      "text/plain": [
       "<matplotlib.figure.Figure at 0x11dd6f950>"
      ]
     },
     "metadata": {},
     "output_type": "display_data"
    }
   ],
   "source": [
    "fig = plt.figure(figsize = (4*2.5, 3*2.5))\n",
    "\n",
    "rnb = np.linspace(0, 256, nMco)\n",
    "Z = [[0,0],[0,0]]\n",
    "levels = Mcore/Me\n",
    "CS = plt.contourf(Z, levels, cmap=get_cmap(cm.rainbow))\n",
    "\n",
    "for i in range(nMco):\n",
    "    plt.loglog(np.append(time[i], 3e6*yr) / yr, np.append(L[i], L2[i]), c = cm.rainbow(int(rnb[i])), \\\n",
    "              label = r'$(M_{\\rm atm}/M_c)\\times 100$' +'%' + ' = %.1f' % ratiomax[i] + r'$\\rightarrow$%.1f' % ratio[i] + \\\n",
    "                   r' (%.1f)' % ratio2[i])\n",
    "    plt.loglog(np.append(time[i][:ind[i]+1], 3e6*yr) / yr, np.append(L[i][:ind[i]+1], L2[i]), \\\n",
    "               c = cm.rainbow(int(rnb[i])), ls = '--')\n",
    "    plt.loglog(np.linspace(3e6, 3e6 + t2[i]/yr, 50), np.ones(50) * L2[i], c = cm.rainbow(int(rnb[i])), ls = '--')\n",
    "    \n",
    "plt.ylim(ymin = 5e22, ymax = 3e25)\n",
    "plt.xlim(xmin = 3e4, xmax = 7e6)\n",
    "plt.xlabel('t [yr]')\n",
    "plt.ylabel(r'Luminosity [erg s$^{-1}$]')\n",
    "plt.title(r'a = 1 AU')\n",
    "plt.axvline(x = 3e6, c = 'black', ls = '--')\n",
    "plt.legend(frameon = False, labelspacing = 0.05)\n",
    "\n",
    "\n",
    "cbar = fig.colorbar(CS)\n",
    "cbar.set_label(r'$M_{\\rm c}$ [$M_{\\oplus}$]')\n",
    "\n",
    "plt.tight_layout()\n",
    "#plt.savefig('../figs/L_vs_t_num_1AU_new.pdf')"
   ]
  },
  {
   "cell_type": "code",
   "execution_count": 135,
   "metadata": {
    "collapsed": false
   },
   "outputs": [],
   "source": [
    "a = 1\n",
    "\n",
    "delad = 2./7\n",
    "Y = 0.3\n",
    "gamma = gammafn(delad)\n",
    "R = Rfn(Y)\n",
    "Cv = Cvfn(Y, delad)\n",
    "Pd = Pdisk(a, mstar, FSigma, FT)\n",
    "Td = Tdisk(a, FT)\n",
    "nMco = 9\n",
    "\n",
    "Mcore = numpy.linspace(2*Me, 10*Me, nMco) \n",
    "rcore = (3 * Mcore / (4 * numpy.pi * rhoc))**(1./3)\n",
    "\n",
    "MBf, MBmax = [], []\n",
    "L = 0 * np.ndarray(shape = (nMco, 300), dtype = float)\n",
    "time = 0 * np.ndarray(shape = (nMco, 300), dtype = float)\n",
    "\n",
    "L2n, t2n, Mf2n, rf2n, indn, MBdn = [], [], [], [], [], []\n",
    "\n",
    "for i in range(nMco):\n",
    "    prms = params(Mcore[i], rcore[i], a, delad, Y, gamma, R, Cv, Pd, Td,\\\n",
    "            kappa = kdust)\n",
    "    modeln, paramn, profn = atmnoSG.atmload('a1Mc' + str(int(Mcore[i]/Me)), prms)\n",
    "    \n",
    "    #model2, param2, prof2, time2 = evap2.mass_loss('a1Mc' + str(int(Mcore[i]/Me)), prms)\n",
    "    #MBf = np.append(MBf, param2.MB[-1])\n",
    "    #MBmax = np.append(MBmax, param2.MB.max())\n",
    "    #for j in range(len(param2)):\n",
    "    #    L[i, j] = param2.L[j]\n",
    "    #    time[i, j] = time2[j]\n",
    "        \n",
    "    Ltemp, ttemp, Mftemp, rftemp, MBdtemp = evap2.mass_loss_2('a1Mc' + str(int(Mcore[i]/Me)), prms, SG = 0)\n",
    "    for i in range(len(paramn)):\n",
    "        if paramn.Mtot[i] < MBdtemp and paramn.Mtot[i + 1] > MBdtemp:\n",
    "            break\n",
    "    indtemp = i\n",
    "            \n",
    "    #indtemp = list(param2.MB).index(param2.MB.max())\n",
    "    \n",
    "    L2n = np.append(L2n, Ltemp)\n",
    "    t2n = np.append(t2n, ttemp)\n",
    "    Mf2n = np.append(Mf2n, Mftemp)\n",
    "    rf2n = np.append(rf2n, rftemp)\n",
    "    indn = np.append(indn, int(indtemp))\n",
    "    MBdn = np.append(MBdn, MBdtemp)\n",
    "        \n",
    "    "
   ]
  },
  {
   "cell_type": "code",
   "execution_count": 136,
   "metadata": {
    "collapsed": false
   },
   "outputs": [
    {
     "name": "stdout",
     "output_type": "stream",
     "text": [
      "[ 3.30702705  4.47013519  5.4878272   6.39701782  7.22220037  7.95204898\n",
      "  8.66402917  9.30916154  9.9119165 ] [ 0.36829316  0.4982746   0.60398221  0.69278662  0.77061081  0.84172066\n",
      "  0.91705145  0.98813084  1.04600429]\n"
     ]
    }
   ],
   "source": [
    "ratiomaxn = (MBdn/Mcore*Me - 1) * 100\n",
    "#ration = (MBf/Mcore*Me - 1) * 100\n",
    "ratio2n = (Mf2n/Mcore*Me - 1) * 100\n",
    "print ratiomaxn, ratio2n #, ratio2"
   ]
  },
  {
   "cell_type": "code",
   "execution_count": null,
   "metadata": {
    "collapsed": false
   },
   "outputs": [],
   "source": [
    "fig = plt.figure(figsize = (4*2.5, 3*2.5))\n",
    "\n",
    "rnb = np.linspace(0, 256, nMco)\n",
    "Z = [[0,0],[0,0]]\n",
    "levels = Mcore/Me\n",
    "CS = plt.contourf(Z, levels, cmap=get_cmap(cm.rainbow))\n",
    "\n",
    "for i in range(nMco):\n",
    "    plt.loglog(np.append(time[i], 3e6*yr) / yr, np.append(L[i], L2[i]), c = cm.rainbow(int(rnb[i])), \\\n",
    "              label = r'$(M_{\\rm atm}/M_c)\\times 100$' +'%' + ' = %.1f' % ratiomax[i] + r'$\\rightarrow$%.1f' % ratio[i] + \\\n",
    "                   r' (%.1f)' % ratio2[i])\n",
    "    plt.loglog(np.append(time[i][:ind[i]+1], 3e6*yr) / yr, np.append(L[i][:ind[i]+1], L2[i]), \\\n",
    "               c = cm.rainbow(int(rnb[i])), ls = '--')\n",
    "    plt.loglog(np.linspace(3e6, 3e6 + t2[i]/yr, 50), np.ones(50) * L2[i], c = cm.rainbow(int(rnb[i])), ls = '--')\n",
    "    \n",
    "plt.ylim(ymin = 5e22, ymax = 3e25)\n",
    "plt.xlim(xmin = 3e4, xmax = 7e6)\n",
    "plt.xlabel('t [yr]')\n",
    "plt.ylabel(r'Luminosity [erg s$^{-1}$]')\n",
    "plt.title(r'a = 1 AU')\n",
    "plt.axvline(x = 3e6, c = 'black', ls = '--')\n",
    "plt.legend(frameon = False, labelspacing = 0.05)\n",
    "\n",
    "\n",
    "cbar = fig.colorbar(CS)\n",
    "cbar.set_label(r'$M_{\\rm c}$ [$M_{\\oplus}$]')\n",
    "\n",
    "plt.tight_layout()\n",
    "#plt.savefig('../figs/L_vs_t_num_1AU_new.pdf')"
   ]
  },
  {
   "cell_type": "code",
   "execution_count": null,
   "metadata": {
    "collapsed": true
   },
   "outputs": [],
   "source": []
  },
  {
   "cell_type": "code",
   "execution_count": null,
   "metadata": {
    "collapsed": true
   },
   "outputs": [],
   "source": []
  },
  {
   "cell_type": "code",
   "execution_count": null,
   "metadata": {
    "collapsed": true
   },
   "outputs": [],
   "source": []
  },
  {
   "cell_type": "code",
   "execution_count": null,
   "metadata": {
    "collapsed": true
   },
   "outputs": [],
   "source": []
  },
  {
   "cell_type": "code",
   "execution_count": 543,
   "metadata": {
    "collapsed": true
   },
   "outputs": [],
   "source": [
    "a = 10\n",
    "\n",
    "delad = 2./7\n",
    "gamma = gammafn(delad)\n",
    "R = Rfn(Y)\n",
    "Cv = Cvfn(Y, delad)\n",
    "Pd = Pdisk(a, mstar, FSigma, FT)\n",
    "Td = Tdisk(a, FT)\n",
    "nMco = 10\n",
    "\n",
    "Mcore = numpy.linspace(1*Me, 10*Me, nMco) \n",
    "rcore = (3 * Mcore / (4 * numpy.pi * rhoc))**(1./3)\n",
    "\n",
    "MBf, MBmax = [], []\n",
    "L = 0 * np.ndarray(shape = (nMco, 300), dtype = float)\n",
    "time = 0 * np.ndarray(shape = (nMco, 300), dtype = float)\n",
    "\n",
    "for i in range(nMco):\n",
    "    prms = params(Mcore[i], rcore[i], a, delad, Y, gamma, R, Cv, Pd, Td,\\\n",
    "            kappa = kdust)\n",
    "    model2, param2, prof2, time2 = evap2.mass_loss('a10Mc' + str(int(Mcore[i]/Me)), prms)\n",
    "    MBf = np.append(MBf, param2.MB[-1])\n",
    "    MBmax = np.append(MBmax, param2.MB.max())\n",
    "    for j in range(len(param2)):\n",
    "        L[i, j] = param2.L[j]\n",
    "        time[i, j] = time2[j]"
   ]
  },
  {
   "cell_type": "code",
   "execution_count": 544,
   "metadata": {
    "collapsed": false
   },
   "outputs": [
    {
     "data": {
      "image/png": "[encoded data removed]",
      "text/plain": [
       "<matplotlib.figure.Figure at 0x137e3d610>"
      ]
     },
     "metadata": {},
     "output_type": "display_data"
    }
   ],
   "source": [
    "fig = plt.figure(figsize = (4, 3))\n",
    "\n",
    "rnb = np.linspace(0, 256, nMco)\n",
    "Z = [[0,0],[0,0]]\n",
    "levels = Mcore/Me\n",
    "CS = plt.contourf(Z, levels, cmap=get_cmap(cm.rainbow))\n",
    "\n",
    "for i in range(nMco):\n",
    "    plt.loglog(time[i] / yr, L[i], c = cm.rainbow(int(rnb[i])))\n",
    "plt.ylim(ymin = 1e22, ymax = 1e26)\n",
    "plt.xlim(xmin = 3e4, xmax = 6e6)\n",
    "plt.xlabel('t [yr]')\n",
    "plt.ylabel(r'Luminosity [erg s$^{-1}$]')\n",
    "plt.title(r'a = 10 AU')\n",
    "plt.axvline(x = 3e6, c = 'black', ls = '--')\n",
    "\n",
    "cbar = fig.colorbar(CS)\n",
    "cbar.set_label(r'$M_{\\rm c}$ [$M_{\\oplus}$]')\n",
    "\n",
    "plt.tight_layout()\n",
    "plt.savefig('../figs/L_vs_t_num_10AU.pdf')"
   ]
  },
  {
   "cell_type": "code",
   "execution_count": 398,
   "metadata": {
    "collapsed": false
   },
   "outputs": [
    {
     "name": "stdout",
     "output_type": "stream",
     "text": [
      "11.8609049275 4687685.73493\n"
     ]
    }
   ],
   "source": [
    "f = interp1d(time / yr, param.Mtot[1:])\n",
    "f(3e6)\n",
    "print param.Mtot[42], time[42]/yr"
   ]
  },
  {
   "cell_type": "code",
   "execution_count": 402,
   "metadata": {
    "collapsed": false
   },
   "outputs": [
    {
     "name": "stdout",
     "output_type": "stream",
     "text": [
      "[ -1.37460759e+39] -5.48028950584e+39\n"
     ]
    }
   ],
   "source": [
    "print - G * model.Mco * (param.Mtot[42] * Me - model.Mco) / (param.rcb[42] * Re) + \\\n",
    "    model.Cv * param.Tcb[42] * param.Mtot[42], param.Etotout[42]"
   ]
  },
  {
   "cell_type": "code",
   "execution_count": 389,
   "metadata": {
    "collapsed": false
   },
   "outputs": [
    {
     "data": {
      "text/plain": [
       "[<matplotlib.lines.Line2D at 0x12d778610>]"
      ]
     },
     "execution_count": 389,
     "metadata": {},
     "output_type": "execute_result"
    },
    {
     "data": {
      "image/png": "[encoded data removed]",
      "text/plain": [
       "<matplotlib.figure.Figure at 0x12b649990>"
      ]
     },
     "metadata": {},
     "output_type": "display_data"
    }
   ],
   "source": [
    "plt.loglog(prof2.r[39], - (- G * prof2.m[39] / prof2.r[39] + model2.Cv * prof2.t[39]) * \\\n",
    "           prof2.rho[39] * prof2.r[39]**3)"
   ]
  },
  {
   "cell_type": "code",
   "execution_count": 64,
   "metadata": {
    "collapsed": false
   },
   "outputs": [
    {
     "data": {
      "text/plain": [
       "100"
      ]
     },
     "execution_count": 64,
     "metadata": {},
     "output_type": "execute_result"
    }
   ],
   "source": [
    "len(param.Mtot)"
   ]
  },
  {
   "cell_type": "code",
   "execution_count": 24,
   "metadata": {
    "collapsed": false
   },
   "outputs": [
    {
     "data": {
      "text/plain": [
       "(array([ 11.        ,  11.18585438,  11.37484892,  11.56703669,\n",
       "         11.76247163,  11.96120862,  12.16330343,  12.36881281,\n",
       "         12.57779445,  12.79030701,  13.00641015,  13.22616453,\n",
       "         13.44963186,  13.67687485,  13.90795731,  14.14294411,\n",
       "         14.3819012 ,  14.62489568,  14.87199576,  15.12327081,\n",
       "         15.37879136,  15.63862915,  15.90285712,  16.17154944,\n",
       "         16.44478156,  16.72263016,  17.00517325,  17.29249015,\n",
       "         17.58466151,  17.88176935,  18.18389709,  18.49112953,\n",
       "         18.80355293,  19.12125498,  19.44432488,  19.77285333,\n",
       "         20.10693254,  20.4466563 ,  20.79211999,  21.14342058,\n",
       "         21.50065669,  21.86392862,  22.23333833,  22.60898953,\n",
       "         22.99098768,  23.37944001,  23.77445558,  24.17614528,\n",
       "         24.58462186,  25.        ]),\n",
       " array([ 10.81620172,  10.99895467,  11.18480262,  11.37379979,\n",
       "         11.5659973 ,  11.7614526 ,  11.96022002,  12.16235464,\n",
       "         12.36791865,  12.57696619,  12.7895587 ,  13.00575832,\n",
       "         13.22562319,  13.44922101,  13.67661247,  13.90786203,\n",
       "         14.14304105,  14.38221077,  14.62544421,  14.87281047,\n",
       "         15.12437664,  15.38022532,  15.64041928,  15.90503685,\n",
       "         16.17415942,  16.4478566 ,  16.72621752,  17.00931476,\n",
       "         17.29723164,  17.59005783,  17.88786826,  18.19076057,\n",
       "         18.49881582,  18.81212249,  19.1307826 ,  19.45487494,\n",
       "         19.78450724,  20.11976929,  20.46075575,  20.80758196,\n",
       "         21.16033086,  21.5191222 ,  21.88405222,  22.2552296 ,\n",
       "         22.63277745,  23.01678536,  23.40738765,  23.80469033,\n",
       "         24.20880632,  24.61987865]),\n",
       " array([  3.81663656e+24,   3.90696722e+24,   4.00149158e+24,\n",
       "          4.10010470e+24,   4.20290744e+24,   4.31031220e+24,\n",
       "          4.42218629e+24,   4.53877108e+24,   4.66022525e+24,\n",
       "          4.78671528e+24,   4.91835025e+24,   5.05536343e+24,\n",
       "          5.19815494e+24,   5.34659383e+24,   5.50098923e+24,\n",
       "          5.66160771e+24,   5.82868177e+24,   6.00272594e+24,\n",
       "          6.18343692e+24,   6.37136222e+24,   6.56684485e+24,\n",
       "          6.77005430e+24,   6.98137226e+24,   7.20109568e+24,\n",
       "          7.42957496e+24,   7.66716603e+24,   7.91418759e+24,\n",
       "          8.17117832e+24,   8.43838012e+24,   8.71627391e+24,\n",
       "          9.00475593e+24,   9.30597509e+24,   9.61867279e+24,\n",
       "          9.94396173e+24,   1.02823708e+25,   1.06342760e+25,\n",
       "          1.10006002e+25,   1.13817353e+25,   1.17784569e+25,\n",
       "          1.21912821e+25,   1.26210895e+25,   1.30683393e+25,\n",
       "          1.35339591e+25,   1.40180961e+25,   1.45227577e+25,\n",
       "          1.50482483e+25,   1.55954655e+25,   1.61656913e+25,\n",
       "          1.67591866e+25,   1.73776557e+25]))"
      ]
     },
     "execution_count": 24,
     "metadata": {},
     "output_type": "execute_result"
    }
   ],
   "source": [
    "paramSG.Mtot, paramSG.MB, paramSG.L"
   ]
  },
  {
   "cell_type": "code",
   "execution_count": 104,
   "metadata": {
    "collapsed": false
   },
   "outputs": [
    {
     "data": {
      "text/plain": [
       "array([ 1.        ,  0.84175503,  0.7910481 ,  0.75184106,  0.72269517,\n",
       "        0.69861394,  0.67533513,  0.66024847,  0.64186321,  0.6275243 ,\n",
       "        0.61350571,  0.5998003 ,  0.58972254,  0.57654842,  0.56686134,\n",
       "        0.55733701,  0.54797271,  0.54181742,  0.53271388,  0.52376329,\n",
       "        0.51787994,  0.5091786 ,  0.50345907,  0.49500002,  0.48943976,\n",
       "        0.48394196,  0.47850592,  0.47313094,  0.46518146,  0.45995615,\n",
       "        0.45478953,  0.44968095,  0.44462975,  0.4396353 ,  0.43715915,\n",
       "        0.43224861,  0.42739323,  0.42259238,  0.41784547,  0.41315188,\n",
       "        0.41082489,  0.40621016,  0.40164726,  0.39938507,  0.39489884,\n",
       "        0.390463  ,  0.3882638 ,  0.3839025 ,  0.38174025,  0.37745222,\n",
       "        0.37321236,  0.37111032,  0.3669417 ,  0.36487498,  0.36077639,\n",
       "        0.3587444 ,  0.35471468,  0.35271682,  0.35073022,  0.34679053,\n",
       "        0.3448373 ,  0.3409638 ,  0.33904339,  0.33713381,  0.33334683,\n",
       "        0.33146933,  0.3296024 ,  0.32590003,  0.32406447,  0.32223925,\n",
       "        0.31861958,  0.31682503,  0.31504058,  0.31150178,  0.30974731,\n",
       "        0.30800273,  0.30626797,  0.30282771,  0.30112209,  0.29942609,\n",
       "        0.29773964,  0.29606268,  0.29273706,  0.29108828,  0.28944879,\n",
       "        0.28781853,  0.28619745,  0.28458551,  0.2813888 ,  0.27980394,\n",
       "        0.27822801,  0.27666095,  0.27510272,  0.27355326,  0.27201253,\n",
       "        0.27048048,  0.26895706,  0.2659359 ,  0.26443808,  0.26294869])"
      ]
     },
     "execution_count": 104,
     "metadata": {},
     "output_type": "execute_result"
    }
   ],
   "source": [
    "param.rcb/param.rout"
   ]
  },
  {
   "cell_type": "code",
   "execution_count": 6,
   "metadata": {
    "collapsed": false
   },
   "outputs": [
    {
     "data": {
      "text/plain": [
       "array([  1.81872211,   6.33708082,  10.65587465,  14.37848682,\n",
       "        17.45158886,  19.90565629,  21.79822431,  23.19422257,\n",
       "        24.15807494,  24.75040487,  25.02669364,  25.03688906,\n",
       "        24.82545246,  24.43164654,  23.88990856,  23.23026614,\n",
       "        22.47876715,  21.65787422,  20.78689036,  19.88218048,\n",
       "        18.95774512,  18.02527525,  17.0945288 ,  16.17361801,\n",
       "        15.26906963,  14.38621919,  13.52924001,  12.70135113,\n",
       "        11.90494338,  11.14170974,  10.41273449,   9.71861252,\n",
       "         9.05951028,   8.43523851,   7.84532976,   7.28907978,\n",
       "         6.76560129,   6.27385693,   5.81270924,   5.38093881,\n",
       "         4.97726449,   4.60037801,   4.24895926,   3.92168277,\n",
       "         3.61723882,   3.33433742,   3.07172557,   2.82817442,\n",
       "         2.60251226,   2.39360496,   2.20035898,   2.02174761,\n",
       "         1.85677979,   1.70452013,   1.56408478,   1.43463962,\n",
       "         1.31538937,   1.20560124,   1.10457897,   1.01167137,\n",
       "         0.92626956,   0.84780471,   0.77574795,   0.70960415,\n",
       "         0.64891399,   0.5932506 ,   0.54221745,   0.49544698,\n",
       "         0.4525988 ,   0.41335754,   0.37743091,   0.34455047,\n",
       "         0.31446574,   0.28694881,   0.26178629,   0.23878388,\n",
       "         0.21776145,   0.19855362,   0.18100788,   0.16498438,\n",
       "         0.15035435,   0.13699953,   0.12481141,   0.1136904 ,\n",
       "         0.10354504,   0.09429156,   0.08585313,   0.07815938,\n",
       "         0.07114576,   0.06475331,   0.05892792,   0.05362016,\n",
       "         0.04878479,   0.0443804 ,   0.04036918,   0.03671655,\n",
       "         0.0333909 ,   0.03036338,   0.0276076 ,   0.0250995 ])"
      ]
     },
     "execution_count": 6,
     "metadata": {},
     "output_type": "execute_result"
    }
   ],
   "source": [
    "param.L/paramSG.L"
   ]
  },
  {
   "cell_type": "code",
   "execution_count": 20,
   "metadata": {
    "collapsed": false
   },
   "outputs": [
    {
     "name": "stdout",
     "output_type": "stream",
     "text": [
      "[  9.40333267e+06   4.45619049e+07   1.08509343e+08   2.02534952e+08\n",
      "   3.26802525e+08   4.80742251e+08   6.63294567e+08   8.73069699e+08\n",
      "   1.10844661e+09   1.36765576e+09   1.64882926e+09   1.95005196e+09\n",
      "   2.26938107e+09   2.60487112e+09   2.95462368e+09   3.31674633e+09\n",
      "   3.68940054e+09   4.07080781e+09   4.45924834e+09   4.85306726e+09\n",
      "   5.25067455e+09   5.65054664e+09   6.05123675e+09   6.45140682e+09\n",
      "   6.84973525e+09   7.24498140e+09   7.63602478e+09   8.02174107e+09\n",
      "   8.40114719e+09   8.77326047e+09   9.13722055e+09   9.49216614e+09\n",
      "   9.83738563e+09   1.01721118e+10   1.04957643e+10   1.08077007e+10\n",
      "   1.11073730e+10   1.13943391e+10   1.16680894e+10   1.19282732e+10\n",
      "   1.21745342e+10   1.24065032e+10   1.26239517e+10   1.28266446e+10\n",
      "   1.30143282e+10   1.31868622e+10   1.33441510e+10   1.34860300e+10\n",
      "   1.36123955e+10   1.37233095e+10   1.38186970e+10   1.38985044e+10\n",
      "   1.39627880e+10   1.40116193e+10   1.40450151e+10   1.40630112e+10\n",
      "   1.40657850e+10   1.40534618e+10   1.40261136e+10   1.39838501e+10\n",
      "   1.39269432e+10   1.38554975e+10   1.37696369e+10   1.36695439e+10\n",
      "   1.35555090e+10   1.34277225e+10   1.32863461e+10   1.31315708e+10\n",
      "   1.29636988e+10   1.27829550e+10   1.25895009e+10   1.23835618e+10\n",
      "   1.21655155e+10   1.19355724e+10   1.16939007e+10   1.14406971e+10\n",
      "   1.11763845e+10   1.09011736e+10   1.06152544e+10   1.03188693e+10\n",
      "   1.00123756e+10   9.69597098e+09   9.36987074e+09   9.03436403e+09\n",
      "   8.68977639e+09   8.33629115e+09   7.97408339e+09   7.60351324e+09\n",
      "   7.22487105e+09   6.83829151e+09   6.44396720e+09   6.04229970e+09\n",
      "   5.63349837e+09   5.21772381e+09   4.79519894e+09   4.36625518e+09\n",
      "   3.93105941e+09   3.48979695e+09   3.04277222e+09] [  9.56538621e+04   2.41770642e+05   4.14156121e+05   6.15128530e+05\n",
      "   8.48544162e+05   1.11909134e+06   1.43072346e+06   1.79127832e+06\n",
      "   2.20600693e+06   2.68369509e+06   3.23337754e+06   3.86436936e+06\n",
      "   4.59148025e+06   5.42528938e+06   6.38372400e+06   7.48516245e+06\n",
      "   8.74840094e+06   1.02036941e+07   1.18755868e+07   1.37925059e+07\n",
      "   1.60008717e+07   1.85327865e+07   2.14500569e+07   2.47948675e+07\n",
      "   2.86411865e+07   3.30645325e+07   3.81518323e+07   4.40165809e+07\n",
      "   5.07420251e+07   5.84787764e+07   6.73793822e+07   7.76195956e+07\n",
      "   8.94017292e+07   1.02923593e+08   1.18534046e+08   1.36496879e+08\n",
      "   1.57166922e+08   1.80952096e+08   2.08321362e+08   2.39717681e+08\n",
      "   2.75977365e+08   3.17694333e+08   3.65524835e+08   4.20764498e+08\n",
      "   4.84296685e+08   5.57081603e+08   6.41131333e+08   7.37354393e+08\n",
      "   8.48447233e+08   9.76073480e+08   1.12197555e+09   1.29034947e+09\n",
      "   1.48260054e+09   1.70436293e+09   1.95719105e+09   2.24865809e+09\n",
      "   2.58034494e+09   2.95999933e+09   3.39711657e+09   3.89281143e+09\n",
      "   4.46289261e+09   5.10737874e+09   5.84125410e+09   6.68333286e+09\n",
      "   7.62963799e+09   8.70202013e+09   9.92844764e+09   1.12950712e+10\n",
      "   1.28330622e+10   1.45834699e+10   1.65099574e+10   1.86556683e+10\n",
      "   2.10794862e+10   2.36966021e+10   2.65635602e+10   2.96800520e+10\n",
      "   3.31366144e+10   3.66937817e+10   4.04205079e+10   4.42475458e+10\n",
      "   4.80712176e+10   5.20213015e+10   5.52885431e+10   5.78948904e+10\n",
      "   5.94469087e+10   5.94177589e+10   5.71084001e+10   5.25646260e+10\n",
      "   4.25009978e+10   2.64306857e+10   2.31624786e+09  -3.24702343e+10\n",
      "  -8.13071705e+10  -1.48524560e+11  -2.39658306e+11  -3.61769857e+11\n",
      "  -5.17476130e+11  -7.32021474e+11  -1.01270974e+12]\n"
     ]
    }
   ],
   "source": [
    "print timeSG/yr, time/yr"
   ]
  },
  {
   "cell_type": "code",
   "execution_count": null,
   "metadata": {
    "collapsed": true
   },
   "outputs": [],
   "source": []
  }
 ],
 "metadata": {
  "kernelspec": {
   "display_name": "Python 2",
   "language": "python",
   "name": "python2"
  },
  "language_info": {
   "codemirror_mode": {
    "name": "ipython",
    "version": 2
   },
   "file_extension": ".py",
   "mimetype": "text/x-python",
   "name": "python",
   "nbconvert_exporter": "python",
   "pygments_lexer": "ipython2",
   "version": "2.7.13"
  }
 },
 "nbformat": 4,
 "nbformat_minor": 0
}
