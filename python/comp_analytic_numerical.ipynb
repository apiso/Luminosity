{
 "cells": [
  {
   "cell_type": "code",
   "execution_count": 1,
   "metadata": {
    "collapsed": false
   },
   "outputs": [
    {
     "name": "stdout",
     "output_type": "stream",
     "text": [
      "Populating the interactive namespace from numpy and matplotlib\n"
     ]
    }
   ],
   "source": [
    "%pylab inline"
   ]
  },
  {
   "cell_type": "code",
   "execution_count": 288,
   "metadata": {
    "collapsed": false
   },
   "outputs": [
    {
     "data": {
      "text/plain": [
       "<module 'cooling' from 'cooling.py'>"
      ]
     },
     "execution_count": 288,
     "metadata": {},
     "output_type": "execute_result"
    }
   ],
   "source": [
    "import numpy as np\n",
    "import luminosity_analytic as l\n",
    "import luminosity_numerical_no_SG as ln\n",
    "from utils.constants import G, kb, mp, Rb, Me, Re, Msun, RH, RHe, sigma, \\\n",
    "    cmperau, RHill, gammafn, mufn, Rfn, Cvfn, kdust, Tdisk, Pdisk, params, yr, kconst, kdustall\n",
    "from utils.parameters import FT, FSigma, mstar, Y, delad, rhoc, Mc, rc, \\\n",
    "    gamma, Y, a\n",
    "import atmseries as atm\n",
    "import cooling as cool\n",
    "from scipy.interpolate import interp1d\n",
    "    \n",
    "reload(l)\n",
    "reload(ln)\n",
    "reload(atm)\n",
    "reload(cool)"
   ]
  },
  {
   "cell_type": "code",
   "execution_count": 4,
   "metadata": {
    "collapsed": true
   },
   "outputs": [],
   "source": [
    "delad = 2./7\n",
    "a = 0.1\n",
    "Mc = 10 * Me\n",
    "rc = (3*Mc/(4*np.pi*rhoc))**(1./3)            \n",
    "    \n",
    "A = 5 * np.pi / 16\n",
    "mu = 2.35 * mp\n",
    "gammac = 4./3\n",
    "muc = 60 * mp\n",
    "\n",
    "            \n",
    "prms = params(Mc, rc, a, delad, Y, gamma = gammafn(delad), R = Rfn(Y), \\\n",
    "    Cv = Cvfn(Y, delad), Pd = Pdisk(a, mstar, FSigma, FT), \\\n",
    "    Td = 1e3, kappa = kconst)"
   ]
  },
  {
   "cell_type": "code",
   "execution_count": 41,
   "metadata": {
    "collapsed": true
   },
   "outputs": [],
   "source": [
    "t, L = l.Lglobal(l.prms, 1e3*yr, 3e6*yr, 500)"
   ]
  },
  {
   "cell_type": "code",
   "execution_count": 14,
   "metadata": {
    "collapsed": false
   },
   "outputs": [],
   "source": [
    "model, param, prof = atm.atmload('a01Mc10', prms)"
   ]
  },
  {
   "cell_type": "code",
   "execution_count": 15,
   "metadata": {
    "collapsed": true
   },
   "outputs": [],
   "source": [
    "M = []\n",
    "for i in range(len(t)):\n",
    "    M = np.append(M, l.Matm(t[i], l.RBp(l.prms), l.prms))"
   ]
  },
  {
   "cell_type": "code",
   "execution_count": 47,
   "metadata": {
    "collapsed": false
   },
   "outputs": [
    {
     "data": {
      "image/png": "[encoded data removed]",
      "text/plain": [
       "<matplotlib.figure.Figure at 0x11330ac50>"
      ]
     },
     "metadata": {},
     "output_type": "display_data"
    }
   ],
   "source": [
    "plt.semilogy(M / Me, L, label = 'analytic')\n",
    "plt.semilogy(param.Mtot - model.Mco / Me, param.L, label = 'numerical')\n",
    "plt.xlim(xmax = 2.5)\n",
    "plt.xlabel(r'$M_{\\rm atm}$ [$M_{\\oplus}$]')\n",
    "plt.ylabel(r'L [erg s$^{-1}$]')\n",
    "plt.legend(frameon = False)\n",
    "\n",
    "plt.savefig('../figs/comp_L_vs_M.pdf')"
   ]
  },
  {
   "cell_type": "code",
   "execution_count": 42,
   "metadata": {
    "collapsed": false
   },
   "outputs": [],
   "source": [
    "dt = cool.cooling_global(param, prof, model, out='rout')[0]\n",
    "\n",
    "time = []\n",
    "for i in range(len(dt)):\n",
    "    time = np.append(time, sum(dt[:i + 1]))"
   ]
  },
  {
   "cell_type": "code",
   "execution_count": 48,
   "metadata": {
    "collapsed": false
   },
   "outputs": [
    {
     "data": {
      "image/png": "[encoded data removed]",
      "text/plain": [
       "<matplotlib.figure.Figure at 0x10ff7b050>"
      ]
     },
     "metadata": {},
     "output_type": "display_data"
    }
   ],
   "source": [
    "plt.loglog(t / yr, L, label = 'analytic')\n",
    "plt.loglog(time / yr, param.L[:-1], label = 'numerical')\n",
    "plt.xlim(xmin = 1e3, xmax = 1e8)\n",
    "plt.legend(frameon = False)\n",
    "plt.xlabel('t [yr]')\n",
    "plt.ylabel(r'L [erg s$^{-1}$]')\n",
    "\n",
    "plt.savefig('../figs/comp_L_vs_t.pdf')"
   ]
  },
  {
   "cell_type": "code",
   "execution_count": 275,
   "metadata": {
    "collapsed": false
   },
   "outputs": [],
   "source": [
    "prms2 = params(Mc, rc, a, delad, Y, gamma = gammafn(delad), R = Rfn(Y), \\\n",
    "    Cv = Cvfn(Y, delad), Pd = Pdisk(a, mstar, FSigma, FT), \\\n",
    "    Td = 1e3, kappa = kdustall)\n",
    "\n",
    "model2, param2, prof2 = atm.atmload('a01Mc10', prms2)"
   ]
  },
  {
   "cell_type": "code",
   "execution_count": 93,
   "metadata": {
    "collapsed": false
   },
   "outputs": [],
   "source": [
    "prms3 = params(Mc, rc, 5.0, delad, Y, gamma = gammafn(delad), R = Rfn(Y), \\\n",
    "    Cv = Cvfn(Y, delad), Pd = Pdisk(a, mstar, FSigma, FT), \\\n",
    "    Td = 60., kappa = kdust)\n",
    "\n",
    "model3, param3, prof3 = atm.atmload('a5Mc10', prms3)"
   ]
  },
  {
   "cell_type": "code",
   "execution_count": 330,
   "metadata": {
    "collapsed": false
   },
   "outputs": [],
   "source": [
    "c2 = cool.cooling_global(param2, prof2, model2, out = 'rout')"
   ]
  },
  {
   "cell_type": "code",
   "execution_count": 305,
   "metadata": {
    "collapsed": false
   },
   "outputs": [],
   "source": [
    "c3 = cool.cooling_global(param3, prof3, model3, out = 'rcb')"
   ]
  },
  {
   "cell_type": "code",
   "execution_count": 306,
   "metadata": {
    "collapsed": false
   },
   "outputs": [],
   "source": [
    "c1 = cool.cooling_global(param, prof, model, out='rout')"
   ]
  },
  {
   "cell_type": "code",
   "execution_count": 307,
   "metadata": {
    "collapsed": false
   },
   "outputs": [],
   "source": [
    "cneg1 = cool.cooling_local(param, prof, model, out='rout', onlyrad = 1)"
   ]
  },
  {
   "cell_type": "code",
   "execution_count": 323,
   "metadata": {
    "collapsed": false
   },
   "outputs": [],
   "source": [
    "cneg2 = cool.cooling_local(param2, prof2, model2, out='rcb', onlyrad = 1)"
   ]
  },
  {
   "cell_type": "code",
   "execution_count": 327,
   "metadata": {
    "collapsed": false
   },
   "outputs": [
    {
     "data": {
      "text/plain": [
       "array([-0.        ,  0.00607667,  0.00757521,  0.00776504,  0.00843903,\n",
       "        0.00854647,  0.00910212,  0.00920997,  0.00929746,  0.0093596 ,\n",
       "        0.0093959 ,  0.00982745,  0.00959544,  0.00996775,  0.00973924,\n",
       "        0.01005167,  0.01020935,  0.01036984,  0.01052972,  0.0106854 ,\n",
       "        0.01083411,  0.01097314,  0.01110065,  0.01121453,  0.01131374,\n",
       "        0.01180708,  0.01201752,  0.01207348,  0.01254728,  0.01277831,\n",
       "        0.0132385 ,  0.01911046,  0.02296826,  0.02527675,  0.02821   ,\n",
       "        0.03170923,  0.03602438,  0.04125276,  0.04759156,  0.05666697,\n",
       "        0.06631885,  0.07793089,  0.09189896,  0.10493746,  0.12168   ,\n",
       "        0.10706784,  0.09342889,  0.08081821,  0.07115384])"
      ]
     },
     "execution_count": 327,
     "metadata": {},
     "output_type": "execute_result"
    }
   ],
   "source": [
    "cneg2 / (param2.Etotcb[1:]-param2.Etotcb[:-1])"
   ]
  },
  {
   "cell_type": "code",
   "execution_count": 331,
   "metadata": {
    "collapsed": false
   },
   "outputs": [],
   "source": [
    "dt2 = c2[0]\n",
    "time2 = []\n",
    "for i in range(len(dt2)):\n",
    "    time2 = np.append(time2, sum(dt2[:i + 1]))"
   ]
  },
  {
   "cell_type": "code",
   "execution_count": 311,
   "metadata": {
    "collapsed": false
   },
   "outputs": [
    {
     "data": {
      "text/plain": [
       "<matplotlib.text.Text at 0x124ccc4d0>"
      ]
     },
     "execution_count": 311,
     "metadata": {},
     "output_type": "execute_result"
    },
    {
     "data": {
      "image/png": "[encoded data removed]",
      "text/plain": [
       "<matplotlib.figure.Figure at 0x11fc95dd0>"
      ]
     },
     "metadata": {},
     "output_type": "display_data"
    }
   ],
   "source": [
    "plt.loglog(time2 / yr, param2.L[:-1], label = r'$\\kappa$ = 0.1 cm$^2$ g$^{-1}$')\n",
    "plt.loglog(time / yr, param.L[:-1], label = r'$\\kappa$ = $\\kappa_{\\rm ISM}$')\n",
    "plt.xlim(xmin = 1e5, xmax = 3e6)\n",
    "plt.legend(frameon = False)\n",
    "plt.xlabel('t [yr]')\n",
    "plt.ylabel(r'L [erg s$^{-1}$]')"
   ]
  },
  {
   "cell_type": "code",
   "execution_count": 314,
   "metadata": {
    "collapsed": false
   },
   "outputs": [
    {
     "data": {
      "text/plain": [
       "<matplotlib.legend.Legend at 0x12a27f4d0>"
      ]
     },
     "execution_count": 314,
     "metadata": {},
     "output_type": "execute_result"
    },
    {
     "data": {
      "image/png": "[encoded data removed]",
      "text/plain": [
       "<matplotlib.figure.Figure at 0x11fca0c90>"
      ]
     },
     "metadata": {},
     "output_type": "display_data"
    }
   ],
   "source": [
    "plt.semilogy(param.Mtot - model.Mco / Me, param.L, label = r'$\\kappa$ = 0.1 cm$^2$ g$^{-1}$')\n",
    "plt.semilogy(param2.Mtot - model2.Mco / Me, param2.L, label = r'$\\kappa$ = $\\kappa_{\\rm ISM}$')\n",
    "plt.xlim(xmax = 8)\n",
    "plt.xlabel(r'$M_{\\rm atm}$ [$M_{\\oplus}$]')\n",
    "plt.ylabel(r'L [erg s$^{-1}$]')\n",
    "plt.legend(frameon = False)\n",
    "\n",
    "#plt.savefig('../figs/comp_L_vs_M.pdf')"
   ]
  },
  {
   "cell_type": "code",
   "execution_count": 181,
   "metadata": {
    "collapsed": false
   },
   "outputs": [],
   "source": [
    "prmsPd10 = params(Mc, rc, 0.1, delad, Y, gamma = gammafn(delad), R = Rfn(Y), \\\n",
    "    Cv = Cvfn(Y, delad), Pd = Pdisk(a, mstar, FSigma, FT) * 1e-10, \\\n",
    "    Td = 1e3, kappa = kdust)\n",
    "\n",
    "modelPd10, paramPd10, profPd10 = atm.atmload('a01Mc10Pd10', prmsPd10)\n",
    "cPd10 = cool.cooling_global(paramPd10, profPd10, modelPd10, out = 'rout')\n",
    "\n",
    "dtPd10 = cPd10[0]\n",
    "timePd10 = []\n",
    "for i in range(len(dtPd10)):\n",
    "    timePd10 = np.append(timePd10, sum(dtPd10[:i + 1]))"
   ]
  },
  {
   "cell_type": "code",
   "execution_count": 183,
   "metadata": {
    "collapsed": false
   },
   "outputs": [
    {
     "data": {
      "text/plain": [
       "<matplotlib.legend.Legend at 0x11a66f6d0>"
      ]
     },
     "execution_count": 183,
     "metadata": {},
     "output_type": "execute_result"
    },
    {
     "data": {
      "image/png": "[encoded data removed]",
      "text/plain": [
       "<matplotlib.figure.Figure at 0x118f15a10>"
      ]
     },
     "metadata": {},
     "output_type": "display_data"
    }
   ],
   "source": [
    "plt.semilogy(param2.Mtot - model2.Mco / Me, param2.L, label = r'$P_{rm d}$')\n",
    "plt.semilogy(paramPd10.Mtot - modelPd10.Mco / Me, paramPd10.L, \\\n",
    "             label = r'$P_{\\rm d} \\times 10^{-10}$')\n",
    "plt.xlabel(r'$M_{\\rm atm}$ [$M_{\\oplus}$]')\n",
    "plt.ylabel(r'L [erg s$^{-1}$]')\n",
    "plt.legend(frameon = False)"
   ]
  },
  {
   "cell_type": "code",
   "execution_count": 184,
   "metadata": {
    "collapsed": false
   },
   "outputs": [
    {
     "data": {
      "text/plain": [
       "[<matplotlib.lines.Line2D at 0x11a62e710>]"
      ]
     },
     "execution_count": 184,
     "metadata": {},
     "output_type": "execute_result"
    },
    {
     "data": {
      "image/png": "[encoded data removed]",
      "text/plain": [
       "<matplotlib.figure.Figure at 0x119421a90>"
      ]
     },
     "metadata": {},
     "output_type": "display_data"
    }
   ],
   "source": [
    "plt.loglog(time2 / yr, param2.L[:-1])\n",
    "plt.loglog(timePd10 / yr, paramPd10.L[:-1])"
   ]
  },
  {
   "cell_type": "code",
   "execution_count": 340,
   "metadata": {
    "collapsed": false
   },
   "outputs": [
    {
     "data": {
      "text/plain": [
       "40.196910519647531"
      ]
     },
     "execution_count": 340,
     "metadata": {},
     "output_type": "execute_result"
    }
   ],
   "source": [
    "sum(cool.cooling_global(param2, prof2, model2, out = 'rcb')[0][:-4])/yr/1e6"
   ]
  },
  {
   "cell_type": "code",
   "execution_count": 344,
   "metadata": {
    "collapsed": false
   },
   "outputs": [
    {
     "data": {
      "text/plain": [
       "168.59083802521778"
      ]
     },
     "execution_count": 344,
     "metadata": {},
     "output_type": "execute_result"
    }
   ],
   "source": [
    "time2[-5]/1e6/yr"
   ]
  },
  {
   "cell_type": "code",
   "execution_count": 302,
   "metadata": {
    "collapsed": false
   },
   "outputs": [
    {
     "data": {
      "text/plain": [
       "4796.3367417876516"
      ]
     },
     "execution_count": 302,
     "metadata": {},
     "output_type": "execute_result"
    }
   ],
   "source": [
    "time2[-1]/yr/1e6"
   ]
  },
  {
   "cell_type": "code",
   "execution_count": 286,
   "metadata": {
    "collapsed": false
   },
   "outputs": [
    {
     "data": {
      "text/plain": [
       "<matplotlib.lines.Line2D at 0x128370e90>"
      ]
     },
     "execution_count": 286,
     "metadata": {},
     "output_type": "execute_result"
    },
    {
     "data": {
      "image/png": "[encoded data removed]",
      "text/plain": [
       "<matplotlib.figure.Figure at 0x1270796d0>"
      ]
     },
     "metadata": {},
     "output_type": "display_data"
    }
   ],
   "source": [
    "plt.loglog(prof2.r[20], prof2.delrad[30])\n",
    "plt.loglog(prof2.r[20], np.ones(500) * 2./7)\n",
    "plt.axvline(x = param2.rcb[30] * Re)"
   ]
  },
  {
   "cell_type": "code",
   "execution_count": 247,
   "metadata": {
    "collapsed": false
   },
   "outputs": [
    {
     "data": {
      "text/plain": [
       "[<matplotlib.lines.Line2D at 0x121aac410>]"
      ]
     },
     "execution_count": 247,
     "metadata": {},
     "output_type": "execute_result"
    },
    {
     "data": {
      "image/png": "[encoded data removed]",
      "text/plain": [
       "<matplotlib.figure.Figure at 0x123375310>"
      ]
     },
     "metadata": {},
     "output_type": "display_data"
    }
   ],
   "source": [
    "plt.loglog(prof2.t[20], prof2.P[20])\n",
    "plt.plot(param2.Tcb[20], param2.Pcb[20], 'o')"
   ]
  },
  {
   "cell_type": "code",
   "execution_count": 283,
   "metadata": {
    "collapsed": false
   },
   "outputs": [
    {
     "data": {
      "text/plain": [
       "[<matplotlib.lines.Line2D at 0x12785cfd0>]"
      ]
     },
     "execution_count": 283,
     "metadata": {},
     "output_type": "execute_result"
    },
    {
     "data": {
      "image/png": "[encoded data removed]",
      "text/plain": [
       "<matplotlib.figure.Figure at 0x11e0e0d50>"
      ]
     },
     "metadata": {},
     "output_type": "display_data"
    }
   ],
   "source": [
    "plt.loglog(prof2.r[20], prof2.P[20])\n",
    "plt.plot(param2.rcb[20]*Re, param2.Pcb[20], 'o')"
   ]
  },
  {
   "cell_type": "code",
   "execution_count": 379,
   "metadata": {
    "collapsed": false
   },
   "outputs": [
    {
     "data": {
      "text/plain": [
       "array(10.953008497249893)"
      ]
     },
     "execution_count": 379,
     "metadata": {},
     "output_type": "execute_result"
    }
   ],
   "source": [
    "f = interp1d(time2 / yr, param2.Mtot[1:])\n",
    "f(3e6)"
   ]
  },
  {
   "cell_type": "code",
   "execution_count": 386,
   "metadata": {
    "collapsed": false
   },
   "outputs": [
    {
     "name": "stdout",
     "output_type": "stream",
     "text": [
      "10.9945836124 5873019.12003\n"
     ]
    }
   ],
   "source": [
    "print param2.Mtot[39], time2[39]/yr"
   ]
  },
  {
   "cell_type": "code",
   "execution_count": 401,
   "metadata": {
    "collapsed": false
   },
   "outputs": [
    {
     "name": "stdout",
     "output_type": "stream",
     "text": [
      "[ -2.95634208e+39] -2.6674960955e+39\n"
     ]
    }
   ],
   "source": [
    "print - G * model2.Mco * (param2.Mtot[39] * Me - model2.Mco) / (param2.rcb[39] * Re) + \\\n",
    "    model2.Cv * param2.Tcb[39] * param2.Mtot[39], param2.Etotout[39]"
   ]
  },
  {
   "cell_type": "code",
   "execution_count": 398,
   "metadata": {
    "collapsed": false
   },
   "outputs": [
    {
     "name": "stdout",
     "output_type": "stream",
     "text": [
      "11.8609049275 4687685.73493\n"
     ]
    }
   ],
   "source": [
    "f = interp1d(time / yr, param.Mtot[1:])\n",
    "f(3e6)\n",
    "print param.Mtot[42], time[42]/yr"
   ]
  },
  {
   "cell_type": "code",
   "execution_count": 402,
   "metadata": {
    "collapsed": false
   },
   "outputs": [
    {
     "name": "stdout",
     "output_type": "stream",
     "text": [
      "[ -1.37460759e+39] -5.48028950584e+39\n"
     ]
    }
   ],
   "source": [
    "print - G * model.Mco * (param.Mtot[42] * Me - model.Mco) / (param.rcb[42] * Re) + \\\n",
    "    model.Cv * param.Tcb[42] * param.Mtot[42], param.Etotout[42]"
   ]
  },
  {
   "cell_type": "code",
   "execution_count": 389,
   "metadata": {
    "collapsed": false
   },
   "outputs": [
    {
     "data": {
      "text/plain": [
       "[<matplotlib.lines.Line2D at 0x12d778610>]"
      ]
     },
     "execution_count": 389,
     "metadata": {},
     "output_type": "execute_result"
    },
    {
     "data": {
      "image/png": "[encoded data removed]",
      "text/plain": [
       "<matplotlib.figure.Figure at 0x12b649990>"
      ]
     },
     "metadata": {},
     "output_type": "display_data"
    }
   ],
   "source": [
    "plt.loglog(prof2.r[39], - (- G * prof2.m[39] / prof2.r[39] + model2.Cv * prof2.t[39]) * \\\n",
    "           prof2.rho[39] * prof2.r[39]**3)"
   ]
  },
  {
   "cell_type": "code",
   "execution_count": null,
   "metadata": {
    "collapsed": false
   },
   "outputs": [],
   "source": []
  },
  {
   "cell_type": "code",
   "execution_count": null,
   "metadata": {
    "collapsed": true
   },
   "outputs": [],
   "source": []
  }
 ],
 "metadata": {
  "kernelspec": {
   "display_name": "Python 2",
   "language": "python",
   "name": "python2"
  },
  "language_info": {
   "codemirror_mode": {
    "name": "ipython",
    "version": 2
   },
   "file_extension": ".py",
   "mimetype": "text/x-python",
   "name": "python",
   "nbconvert_exporter": "python",
   "pygments_lexer": "ipython2",
   "version": "2.7.11"
  }
 },
 "nbformat": 4,
 "nbformat_minor": 0
}
